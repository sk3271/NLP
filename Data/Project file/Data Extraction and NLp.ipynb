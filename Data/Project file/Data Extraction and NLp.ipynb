{
  "nbformat": 4,
  "nbformat_minor": 0,
  "metadata": {
    "colab": {
      "provenance": []
    },
    "kernelspec": {
      "name": "python3",
      "display_name": "Python 3"
    },
    "language_info": {
      "name": "python"
    }
  },
  "cells": [
    {
      "cell_type": "markdown",
      "source": [
        "# DATA EXTRACTION AND NLP PROJECT"
      ],
      "metadata": {
        "id": "0KM-xAeaHUu8"
      }
    },
    {
      "cell_type": "markdown",
      "source": [
        "## Dataset Link\n",
        "\n",
        "Input Link:- https://docs.google.com/spreadsheets/d/1D7QkDHxUSKnQhR--q0BAwKMxQlUyoJTQ/edit?usp=drive_link&ouid=108072191480817696797&rtpof=true&sd=true\n",
        "\n",
        "Stop Words:- https://drive.google.com/file/d/1aWxyJI0d9MOk59OZ_unfBY5E-Nvg_ezW/view?usp=drive_link,\n",
        "\n",
        "https://drive.google.com/file/d/1K-6MjPq5AQg4ICYY6PDfapB7JECUnryD/view?usp=drive_link,\n",
        "\n",
        "https://drive.google.com/file/d/13LXnH6vaJhvY4s2ai_2oW2qwongU_iAI/view?usp=drive_link,\n",
        "\n",
        " https://drive.google.com/file/d/1tTDfLXNPxNuUGZXHQkQhW6wPf4Xnivwr/view?usp=drive_link,\n",
        "\n",
        " https://drive.google.com/file/d/1PnZhcsfjBVxnzwa4N6MrLWf6Kuhhjpdk/view?usp=drive_link,\n",
        "\n",
        "https://drive.google.com/file/d/1RKxMOHzBdLrGuYb7MCJRTKKPwDG9Agbe/view?usp=drive_link,\n",
        "  \n",
        " https://drive.google.com/file/d/1mBOuggD8AVNFjr9sprLoD2_6mVWAgRGE/view?usp=drive_link\n",
        "\n",
        "Positive Negative words:- https://drive.google.com/file/d/1qqMwc_-ayS38HEOB97osO_nkIxRkbnvh/view?usp=drive_link,\n",
        "\n",
        "https://drive.google.com/file/d/1seAj8G42SmfgUUx8lqVDJofm4Tuh2TOT/view?usp=drive_link\n"
      ],
      "metadata": {
        "id": "JKMV0gl1HQJz"
      }
    },
    {
      "cell_type": "markdown",
      "source": [
        "### IMPORTANT LIBRARIES"
      ],
      "metadata": {
        "id": "RjTOw6u2HkRM"
      }
    },
    {
      "cell_type": "code",
      "execution_count": 1,
      "metadata": {
        "id": "K0_JDsbiHJdf"
      },
      "outputs": [],
      "source": [
        "import re\n",
        "import io\n",
        "import nltk\n",
        "import os, sys\n",
        "import requests\n",
        "import string, time\n",
        "import numpy as np\n",
        "import pandas as pd\n",
        "import matplotlib.pyplot as plt\n",
        "%matplotlib inline\n",
        "import seaborn as sns\n",
        "from textblob import TextBlob\n",
        "from bs4 import BeautifulSoup\n",
        "from nltk.corpus import stopwords\n",
        "from nltk.tokenize import word_tokenize\n",
        "from nltk.tokenize import sent_tokenize\n",
        "\n",
        "from nltk.stem.porter import PorterStemmer\n",
        "from nltk.stem import WordNetLemmatizer\n",
        "from nltk.classify import NaiveBayesClassifier,accuracy\n",
        "from sklearn.feature_extraction.text import CountVectorizer\n",
        "from sklearn.feature_extraction.text import TfidfVectorizer\n",
        "from sklearn.model_selection import train_test_split\n",
        "from sklearn.model_selection import cross_val_score\n",
        "from sklearn.model_selection import GridSearchCV\n",
        "\n"
      ]
    },
    {
      "cell_type": "markdown",
      "source": [
        "### Preprocessing"
      ],
      "metadata": {
        "id": "ZvNZMjRYIoKN"
      }
    },
    {
      "cell_type": "code",
      "source": [
        "File = pd.read_excel(\"/content/Input.xlsx\")"
      ],
      "metadata": {
        "id": "ElYWzEgqHTr_"
      },
      "execution_count": 2,
      "outputs": []
    },
    {
      "cell_type": "code",
      "source": [
        "# For not losing original dataset\n",
        "Data = File.copy()"
      ],
      "metadata": {
        "id": "ExvqAezrIIFr"
      },
      "execution_count": 3,
      "outputs": []
    },
    {
      "cell_type": "code",
      "source": [
        "Data.head()"
      ],
      "metadata": {
        "colab": {
          "base_uri": "https://localhost:8080/",
          "height": 206
        },
        "id": "hMhRjQHLIh6M",
        "outputId": "e546a76a-b13d-4624-b6dc-50494301baaf"
      },
      "execution_count": 4,
      "outputs": [
        {
          "output_type": "execute_result",
          "data": {
            "text/plain": [
              "   URL_ID                                                URL\n",
              "0   123.0  https://insights.blackcoffer.com/rise-of-telem...\n",
              "1   321.0  https://insights.blackcoffer.com/rise-of-e-hea...\n",
              "2  2345.0  https://insights.blackcoffer.com/rise-of-e-hea...\n",
              "3  4321.0  https://insights.blackcoffer.com/rise-of-telem...\n",
              "4   432.0  https://insights.blackcoffer.com/rise-of-telem..."
            ],
            "text/html": [
              "\n",
              "  <div id=\"df-8c3762be-c3ec-4397-902f-578f38601f2f\" class=\"colab-df-container\">\n",
              "    <div>\n",
              "<style scoped>\n",
              "    .dataframe tbody tr th:only-of-type {\n",
              "        vertical-align: middle;\n",
              "    }\n",
              "\n",
              "    .dataframe tbody tr th {\n",
              "        vertical-align: top;\n",
              "    }\n",
              "\n",
              "    .dataframe thead th {\n",
              "        text-align: right;\n",
              "    }\n",
              "</style>\n",
              "<table border=\"1\" class=\"dataframe\">\n",
              "  <thead>\n",
              "    <tr style=\"text-align: right;\">\n",
              "      <th></th>\n",
              "      <th>URL_ID</th>\n",
              "      <th>URL</th>\n",
              "    </tr>\n",
              "  </thead>\n",
              "  <tbody>\n",
              "    <tr>\n",
              "      <th>0</th>\n",
              "      <td>123.0</td>\n",
              "      <td>https://insights.blackcoffer.com/rise-of-telem...</td>\n",
              "    </tr>\n",
              "    <tr>\n",
              "      <th>1</th>\n",
              "      <td>321.0</td>\n",
              "      <td>https://insights.blackcoffer.com/rise-of-e-hea...</td>\n",
              "    </tr>\n",
              "    <tr>\n",
              "      <th>2</th>\n",
              "      <td>2345.0</td>\n",
              "      <td>https://insights.blackcoffer.com/rise-of-e-hea...</td>\n",
              "    </tr>\n",
              "    <tr>\n",
              "      <th>3</th>\n",
              "      <td>4321.0</td>\n",
              "      <td>https://insights.blackcoffer.com/rise-of-telem...</td>\n",
              "    </tr>\n",
              "    <tr>\n",
              "      <th>4</th>\n",
              "      <td>432.0</td>\n",
              "      <td>https://insights.blackcoffer.com/rise-of-telem...</td>\n",
              "    </tr>\n",
              "  </tbody>\n",
              "</table>\n",
              "</div>\n",
              "    <div class=\"colab-df-buttons\">\n",
              "\n",
              "  <div class=\"colab-df-container\">\n",
              "    <button class=\"colab-df-convert\" onclick=\"convertToInteractive('df-8c3762be-c3ec-4397-902f-578f38601f2f')\"\n",
              "            title=\"Convert this dataframe to an interactive table.\"\n",
              "            style=\"display:none;\">\n",
              "\n",
              "  <svg xmlns=\"http://www.w3.org/2000/svg\" height=\"24px\" viewBox=\"0 -960 960 960\">\n",
              "    <path d=\"M120-120v-720h720v720H120Zm60-500h600v-160H180v160Zm220 220h160v-160H400v160Zm0 220h160v-160H400v160ZM180-400h160v-160H180v160Zm440 0h160v-160H620v160ZM180-180h160v-160H180v160Zm440 0h160v-160H620v160Z\"/>\n",
              "  </svg>\n",
              "    </button>\n",
              "\n",
              "  <style>\n",
              "    .colab-df-container {\n",
              "      display:flex;\n",
              "      gap: 12px;\n",
              "    }\n",
              "\n",
              "    .colab-df-convert {\n",
              "      background-color: #E8F0FE;\n",
              "      border: none;\n",
              "      border-radius: 50%;\n",
              "      cursor: pointer;\n",
              "      display: none;\n",
              "      fill: #1967D2;\n",
              "      height: 32px;\n",
              "      padding: 0 0 0 0;\n",
              "      width: 32px;\n",
              "    }\n",
              "\n",
              "    .colab-df-convert:hover {\n",
              "      background-color: #E2EBFA;\n",
              "      box-shadow: 0px 1px 2px rgba(60, 64, 67, 0.3), 0px 1px 3px 1px rgba(60, 64, 67, 0.15);\n",
              "      fill: #174EA6;\n",
              "    }\n",
              "\n",
              "    .colab-df-buttons div {\n",
              "      margin-bottom: 4px;\n",
              "    }\n",
              "\n",
              "    [theme=dark] .colab-df-convert {\n",
              "      background-color: #3B4455;\n",
              "      fill: #D2E3FC;\n",
              "    }\n",
              "\n",
              "    [theme=dark] .colab-df-convert:hover {\n",
              "      background-color: #434B5C;\n",
              "      box-shadow: 0px 1px 3px 1px rgba(0, 0, 0, 0.15);\n",
              "      filter: drop-shadow(0px 1px 2px rgba(0, 0, 0, 0.3));\n",
              "      fill: #FFFFFF;\n",
              "    }\n",
              "  </style>\n",
              "\n",
              "    <script>\n",
              "      const buttonEl =\n",
              "        document.querySelector('#df-8c3762be-c3ec-4397-902f-578f38601f2f button.colab-df-convert');\n",
              "      buttonEl.style.display =\n",
              "        google.colab.kernel.accessAllowed ? 'block' : 'none';\n",
              "\n",
              "      async function convertToInteractive(key) {\n",
              "        const element = document.querySelector('#df-8c3762be-c3ec-4397-902f-578f38601f2f');\n",
              "        const dataTable =\n",
              "          await google.colab.kernel.invokeFunction('convertToInteractive',\n",
              "                                                    [key], {});\n",
              "        if (!dataTable) return;\n",
              "\n",
              "        const docLinkHtml = 'Like what you see? Visit the ' +\n",
              "          '<a target=\"_blank\" href=https://colab.research.google.com/notebooks/data_table.ipynb>data table notebook</a>'\n",
              "          + ' to learn more about interactive tables.';\n",
              "        element.innerHTML = '';\n",
              "        dataTable['output_type'] = 'display_data';\n",
              "        await google.colab.output.renderOutput(dataTable, element);\n",
              "        const docLink = document.createElement('div');\n",
              "        docLink.innerHTML = docLinkHtml;\n",
              "        element.appendChild(docLink);\n",
              "      }\n",
              "    </script>\n",
              "  </div>\n",
              "\n",
              "\n",
              "<div id=\"df-78ebd899-5113-4b44-be7e-031eeab90ff3\">\n",
              "  <button class=\"colab-df-quickchart\" onclick=\"quickchart('df-78ebd899-5113-4b44-be7e-031eeab90ff3')\"\n",
              "            title=\"Suggest charts.\"\n",
              "            style=\"display:none;\">\n",
              "\n",
              "<svg xmlns=\"http://www.w3.org/2000/svg\" height=\"24px\"viewBox=\"0 0 24 24\"\n",
              "     width=\"24px\">\n",
              "    <g>\n",
              "        <path d=\"M19 3H5c-1.1 0-2 .9-2 2v14c0 1.1.9 2 2 2h14c1.1 0 2-.9 2-2V5c0-1.1-.9-2-2-2zM9 17H7v-7h2v7zm4 0h-2V7h2v10zm4 0h-2v-4h2v4z\"/>\n",
              "    </g>\n",
              "</svg>\n",
              "  </button>\n",
              "\n",
              "<style>\n",
              "  .colab-df-quickchart {\n",
              "      --bg-color: #E8F0FE;\n",
              "      --fill-color: #1967D2;\n",
              "      --hover-bg-color: #E2EBFA;\n",
              "      --hover-fill-color: #174EA6;\n",
              "      --disabled-fill-color: #AAA;\n",
              "      --disabled-bg-color: #DDD;\n",
              "  }\n",
              "\n",
              "  [theme=dark] .colab-df-quickchart {\n",
              "      --bg-color: #3B4455;\n",
              "      --fill-color: #D2E3FC;\n",
              "      --hover-bg-color: #434B5C;\n",
              "      --hover-fill-color: #FFFFFF;\n",
              "      --disabled-bg-color: #3B4455;\n",
              "      --disabled-fill-color: #666;\n",
              "  }\n",
              "\n",
              "  .colab-df-quickchart {\n",
              "    background-color: var(--bg-color);\n",
              "    border: none;\n",
              "    border-radius: 50%;\n",
              "    cursor: pointer;\n",
              "    display: none;\n",
              "    fill: var(--fill-color);\n",
              "    height: 32px;\n",
              "    padding: 0;\n",
              "    width: 32px;\n",
              "  }\n",
              "\n",
              "  .colab-df-quickchart:hover {\n",
              "    background-color: var(--hover-bg-color);\n",
              "    box-shadow: 0 1px 2px rgba(60, 64, 67, 0.3), 0 1px 3px 1px rgba(60, 64, 67, 0.15);\n",
              "    fill: var(--button-hover-fill-color);\n",
              "  }\n",
              "\n",
              "  .colab-df-quickchart-complete:disabled,\n",
              "  .colab-df-quickchart-complete:disabled:hover {\n",
              "    background-color: var(--disabled-bg-color);\n",
              "    fill: var(--disabled-fill-color);\n",
              "    box-shadow: none;\n",
              "  }\n",
              "\n",
              "  .colab-df-spinner {\n",
              "    border: 2px solid var(--fill-color);\n",
              "    border-color: transparent;\n",
              "    border-bottom-color: var(--fill-color);\n",
              "    animation:\n",
              "      spin 1s steps(1) infinite;\n",
              "  }\n",
              "\n",
              "  @keyframes spin {\n",
              "    0% {\n",
              "      border-color: transparent;\n",
              "      border-bottom-color: var(--fill-color);\n",
              "      border-left-color: var(--fill-color);\n",
              "    }\n",
              "    20% {\n",
              "      border-color: transparent;\n",
              "      border-left-color: var(--fill-color);\n",
              "      border-top-color: var(--fill-color);\n",
              "    }\n",
              "    30% {\n",
              "      border-color: transparent;\n",
              "      border-left-color: var(--fill-color);\n",
              "      border-top-color: var(--fill-color);\n",
              "      border-right-color: var(--fill-color);\n",
              "    }\n",
              "    40% {\n",
              "      border-color: transparent;\n",
              "      border-right-color: var(--fill-color);\n",
              "      border-top-color: var(--fill-color);\n",
              "    }\n",
              "    60% {\n",
              "      border-color: transparent;\n",
              "      border-right-color: var(--fill-color);\n",
              "    }\n",
              "    80% {\n",
              "      border-color: transparent;\n",
              "      border-right-color: var(--fill-color);\n",
              "      border-bottom-color: var(--fill-color);\n",
              "    }\n",
              "    90% {\n",
              "      border-color: transparent;\n",
              "      border-bottom-color: var(--fill-color);\n",
              "    }\n",
              "  }\n",
              "</style>\n",
              "\n",
              "  <script>\n",
              "    async function quickchart(key) {\n",
              "      const quickchartButtonEl =\n",
              "        document.querySelector('#' + key + ' button');\n",
              "      quickchartButtonEl.disabled = true;  // To prevent multiple clicks.\n",
              "      quickchartButtonEl.classList.add('colab-df-spinner');\n",
              "      try {\n",
              "        const charts = await google.colab.kernel.invokeFunction(\n",
              "            'suggestCharts', [key], {});\n",
              "      } catch (error) {\n",
              "        console.error('Error during call to suggestCharts:', error);\n",
              "      }\n",
              "      quickchartButtonEl.classList.remove('colab-df-spinner');\n",
              "      quickchartButtonEl.classList.add('colab-df-quickchart-complete');\n",
              "    }\n",
              "    (() => {\n",
              "      let quickchartButtonEl =\n",
              "        document.querySelector('#df-78ebd899-5113-4b44-be7e-031eeab90ff3 button');\n",
              "      quickchartButtonEl.style.display =\n",
              "        google.colab.kernel.accessAllowed ? 'block' : 'none';\n",
              "    })();\n",
              "  </script>\n",
              "</div>\n",
              "    </div>\n",
              "  </div>\n"
            ]
          },
          "metadata": {},
          "execution_count": 4
        }
      ]
    },
    {
      "cell_type": "code",
      "source": [
        "Data.shape"
      ],
      "metadata": {
        "colab": {
          "base_uri": "https://localhost:8080/"
        },
        "id": "7fjOJeZ2IjY1",
        "outputId": "15d0b17d-1164-4d34-8f4c-8121754d35ba"
      },
      "execution_count": 5,
      "outputs": [
        {
          "output_type": "execute_result",
          "data": {
            "text/plain": [
              "(114, 2)"
            ]
          },
          "metadata": {},
          "execution_count": 5
        }
      ]
    },
    {
      "cell_type": "code",
      "source": [
        "Data.info()"
      ],
      "metadata": {
        "colab": {
          "base_uri": "https://localhost:8080/"
        },
        "id": "BoPZWLa7JBvi",
        "outputId": "350f662b-bc1c-4981-f161-c0762c94c8cc"
      },
      "execution_count": 6,
      "outputs": [
        {
          "output_type": "stream",
          "name": "stdout",
          "text": [
            "<class 'pandas.core.frame.DataFrame'>\n",
            "RangeIndex: 114 entries, 0 to 113\n",
            "Data columns (total 2 columns):\n",
            " #   Column  Non-Null Count  Dtype  \n",
            "---  ------  --------------  -----  \n",
            " 0   URL_ID  114 non-null    float64\n",
            " 1   URL     114 non-null    object \n",
            "dtypes: float64(1), object(1)\n",
            "memory usage: 1.9+ KB\n"
          ]
        }
      ]
    },
    {
      "cell_type": "markdown",
      "source": [
        "Scrap data from Urls"
      ],
      "metadata": {
        "id": "Tr3AYcLAJIE7"
      }
    },
    {
      "cell_type": "code",
      "source": [
        "%%time\n",
        "data = []\n",
        "for i in range(0,6):\n",
        "  url = File['URL'][i]\n",
        "  page = requests.get(url)\n",
        "  soup = BeautifulSoup(page.content, 'html.parser')\n",
        "\n",
        "  title= soup.title.text.replace(\"\\n\", \" \")\n",
        "  text= soup.text.replace(\"\\n\", \" \")\n",
        "  data.append([title,text])"
      ],
      "metadata": {
        "id": "eHg_ODBUJEdI",
        "colab": {
          "base_uri": "https://localhost:8080/"
        },
        "outputId": "fb5161a0-9d2b-4194-983c-d3436938452c"
      },
      "execution_count": 7,
      "outputs": [
        {
          "output_type": "stream",
          "name": "stdout",
          "text": [
            "CPU times: user 682 ms, sys: 24.5 ms, total: 706 ms\n",
            "Wall time: 3.37 s\n"
          ]
        }
      ]
    },
    {
      "cell_type": "code",
      "source": [
        "df1 = pd.DataFrame(data, columns= ['Title','Text'])"
      ],
      "metadata": {
        "id": "E1B_SVfBJesJ"
      },
      "execution_count": 8,
      "outputs": []
    },
    {
      "cell_type": "code",
      "source": [
        "df1.head()"
      ],
      "metadata": {
        "colab": {
          "base_uri": "https://localhost:8080/",
          "height": 206
        },
        "id": "pqwsU3ISlsKp",
        "outputId": "35f4df4b-fe3a-432b-e510-f2b1a554390b"
      },
      "execution_count": 9,
      "outputs": [
        {
          "output_type": "execute_result",
          "data": {
            "text/plain": [
              "                                               Title  \\\n",
              "0  Rise of telemedicine and its Impact on Livelih...   \n",
              "1  Rise of e-health and its impact on humans by t...   \n",
              "2  Rise of e-health and its impact on humans by t...   \n",
              "3  Rise of telemedicine and its Impact on Livelih...   \n",
              "4  Rise of telemedicine and its Impact on Livelih...   \n",
              "\n",
              "                                                Text  \n",
              "0         Rise of telemedicine and its Impact on ...  \n",
              "1         Rise of e-health and its impact on huma...  \n",
              "2         Rise of e-health and its impact on huma...  \n",
              "3         Rise of telemedicine and its Impact on ...  \n",
              "4         Rise of telemedicine and its Impact on ...  "
            ],
            "text/html": [
              "\n",
              "  <div id=\"df-37c4fd54-2a7c-4a1e-bf2f-9b073b3c3ab6\" class=\"colab-df-container\">\n",
              "    <div>\n",
              "<style scoped>\n",
              "    .dataframe tbody tr th:only-of-type {\n",
              "        vertical-align: middle;\n",
              "    }\n",
              "\n",
              "    .dataframe tbody tr th {\n",
              "        vertical-align: top;\n",
              "    }\n",
              "\n",
              "    .dataframe thead th {\n",
              "        text-align: right;\n",
              "    }\n",
              "</style>\n",
              "<table border=\"1\" class=\"dataframe\">\n",
              "  <thead>\n",
              "    <tr style=\"text-align: right;\">\n",
              "      <th></th>\n",
              "      <th>Title</th>\n",
              "      <th>Text</th>\n",
              "    </tr>\n",
              "  </thead>\n",
              "  <tbody>\n",
              "    <tr>\n",
              "      <th>0</th>\n",
              "      <td>Rise of telemedicine and its Impact on Livelih...</td>\n",
              "      <td>Rise of telemedicine and its Impact on ...</td>\n",
              "    </tr>\n",
              "    <tr>\n",
              "      <th>1</th>\n",
              "      <td>Rise of e-health and its impact on humans by t...</td>\n",
              "      <td>Rise of e-health and its impact on huma...</td>\n",
              "    </tr>\n",
              "    <tr>\n",
              "      <th>2</th>\n",
              "      <td>Rise of e-health and its impact on humans by t...</td>\n",
              "      <td>Rise of e-health and its impact on huma...</td>\n",
              "    </tr>\n",
              "    <tr>\n",
              "      <th>3</th>\n",
              "      <td>Rise of telemedicine and its Impact on Livelih...</td>\n",
              "      <td>Rise of telemedicine and its Impact on ...</td>\n",
              "    </tr>\n",
              "    <tr>\n",
              "      <th>4</th>\n",
              "      <td>Rise of telemedicine and its Impact on Livelih...</td>\n",
              "      <td>Rise of telemedicine and its Impact on ...</td>\n",
              "    </tr>\n",
              "  </tbody>\n",
              "</table>\n",
              "</div>\n",
              "    <div class=\"colab-df-buttons\">\n",
              "\n",
              "  <div class=\"colab-df-container\">\n",
              "    <button class=\"colab-df-convert\" onclick=\"convertToInteractive('df-37c4fd54-2a7c-4a1e-bf2f-9b073b3c3ab6')\"\n",
              "            title=\"Convert this dataframe to an interactive table.\"\n",
              "            style=\"display:none;\">\n",
              "\n",
              "  <svg xmlns=\"http://www.w3.org/2000/svg\" height=\"24px\" viewBox=\"0 -960 960 960\">\n",
              "    <path d=\"M120-120v-720h720v720H120Zm60-500h600v-160H180v160Zm220 220h160v-160H400v160Zm0 220h160v-160H400v160ZM180-400h160v-160H180v160Zm440 0h160v-160H620v160ZM180-180h160v-160H180v160Zm440 0h160v-160H620v160Z\"/>\n",
              "  </svg>\n",
              "    </button>\n",
              "\n",
              "  <style>\n",
              "    .colab-df-container {\n",
              "      display:flex;\n",
              "      gap: 12px;\n",
              "    }\n",
              "\n",
              "    .colab-df-convert {\n",
              "      background-color: #E8F0FE;\n",
              "      border: none;\n",
              "      border-radius: 50%;\n",
              "      cursor: pointer;\n",
              "      display: none;\n",
              "      fill: #1967D2;\n",
              "      height: 32px;\n",
              "      padding: 0 0 0 0;\n",
              "      width: 32px;\n",
              "    }\n",
              "\n",
              "    .colab-df-convert:hover {\n",
              "      background-color: #E2EBFA;\n",
              "      box-shadow: 0px 1px 2px rgba(60, 64, 67, 0.3), 0px 1px 3px 1px rgba(60, 64, 67, 0.15);\n",
              "      fill: #174EA6;\n",
              "    }\n",
              "\n",
              "    .colab-df-buttons div {\n",
              "      margin-bottom: 4px;\n",
              "    }\n",
              "\n",
              "    [theme=dark] .colab-df-convert {\n",
              "      background-color: #3B4455;\n",
              "      fill: #D2E3FC;\n",
              "    }\n",
              "\n",
              "    [theme=dark] .colab-df-convert:hover {\n",
              "      background-color: #434B5C;\n",
              "      box-shadow: 0px 1px 3px 1px rgba(0, 0, 0, 0.15);\n",
              "      filter: drop-shadow(0px 1px 2px rgba(0, 0, 0, 0.3));\n",
              "      fill: #FFFFFF;\n",
              "    }\n",
              "  </style>\n",
              "\n",
              "    <script>\n",
              "      const buttonEl =\n",
              "        document.querySelector('#df-37c4fd54-2a7c-4a1e-bf2f-9b073b3c3ab6 button.colab-df-convert');\n",
              "      buttonEl.style.display =\n",
              "        google.colab.kernel.accessAllowed ? 'block' : 'none';\n",
              "\n",
              "      async function convertToInteractive(key) {\n",
              "        const element = document.querySelector('#df-37c4fd54-2a7c-4a1e-bf2f-9b073b3c3ab6');\n",
              "        const dataTable =\n",
              "          await google.colab.kernel.invokeFunction('convertToInteractive',\n",
              "                                                    [key], {});\n",
              "        if (!dataTable) return;\n",
              "\n",
              "        const docLinkHtml = 'Like what you see? Visit the ' +\n",
              "          '<a target=\"_blank\" href=https://colab.research.google.com/notebooks/data_table.ipynb>data table notebook</a>'\n",
              "          + ' to learn more about interactive tables.';\n",
              "        element.innerHTML = '';\n",
              "        dataTable['output_type'] = 'display_data';\n",
              "        await google.colab.output.renderOutput(dataTable, element);\n",
              "        const docLink = document.createElement('div');\n",
              "        docLink.innerHTML = docLinkHtml;\n",
              "        element.appendChild(docLink);\n",
              "      }\n",
              "    </script>\n",
              "  </div>\n",
              "\n",
              "\n",
              "<div id=\"df-39aaca12-ddc1-4994-abb7-a2ad6037f772\">\n",
              "  <button class=\"colab-df-quickchart\" onclick=\"quickchart('df-39aaca12-ddc1-4994-abb7-a2ad6037f772')\"\n",
              "            title=\"Suggest charts.\"\n",
              "            style=\"display:none;\">\n",
              "\n",
              "<svg xmlns=\"http://www.w3.org/2000/svg\" height=\"24px\"viewBox=\"0 0 24 24\"\n",
              "     width=\"24px\">\n",
              "    <g>\n",
              "        <path d=\"M19 3H5c-1.1 0-2 .9-2 2v14c0 1.1.9 2 2 2h14c1.1 0 2-.9 2-2V5c0-1.1-.9-2-2-2zM9 17H7v-7h2v7zm4 0h-2V7h2v10zm4 0h-2v-4h2v4z\"/>\n",
              "    </g>\n",
              "</svg>\n",
              "  </button>\n",
              "\n",
              "<style>\n",
              "  .colab-df-quickchart {\n",
              "      --bg-color: #E8F0FE;\n",
              "      --fill-color: #1967D2;\n",
              "      --hover-bg-color: #E2EBFA;\n",
              "      --hover-fill-color: #174EA6;\n",
              "      --disabled-fill-color: #AAA;\n",
              "      --disabled-bg-color: #DDD;\n",
              "  }\n",
              "\n",
              "  [theme=dark] .colab-df-quickchart {\n",
              "      --bg-color: #3B4455;\n",
              "      --fill-color: #D2E3FC;\n",
              "      --hover-bg-color: #434B5C;\n",
              "      --hover-fill-color: #FFFFFF;\n",
              "      --disabled-bg-color: #3B4455;\n",
              "      --disabled-fill-color: #666;\n",
              "  }\n",
              "\n",
              "  .colab-df-quickchart {\n",
              "    background-color: var(--bg-color);\n",
              "    border: none;\n",
              "    border-radius: 50%;\n",
              "    cursor: pointer;\n",
              "    display: none;\n",
              "    fill: var(--fill-color);\n",
              "    height: 32px;\n",
              "    padding: 0;\n",
              "    width: 32px;\n",
              "  }\n",
              "\n",
              "  .colab-df-quickchart:hover {\n",
              "    background-color: var(--hover-bg-color);\n",
              "    box-shadow: 0 1px 2px rgba(60, 64, 67, 0.3), 0 1px 3px 1px rgba(60, 64, 67, 0.15);\n",
              "    fill: var(--button-hover-fill-color);\n",
              "  }\n",
              "\n",
              "  .colab-df-quickchart-complete:disabled,\n",
              "  .colab-df-quickchart-complete:disabled:hover {\n",
              "    background-color: var(--disabled-bg-color);\n",
              "    fill: var(--disabled-fill-color);\n",
              "    box-shadow: none;\n",
              "  }\n",
              "\n",
              "  .colab-df-spinner {\n",
              "    border: 2px solid var(--fill-color);\n",
              "    border-color: transparent;\n",
              "    border-bottom-color: var(--fill-color);\n",
              "    animation:\n",
              "      spin 1s steps(1) infinite;\n",
              "  }\n",
              "\n",
              "  @keyframes spin {\n",
              "    0% {\n",
              "      border-color: transparent;\n",
              "      border-bottom-color: var(--fill-color);\n",
              "      border-left-color: var(--fill-color);\n",
              "    }\n",
              "    20% {\n",
              "      border-color: transparent;\n",
              "      border-left-color: var(--fill-color);\n",
              "      border-top-color: var(--fill-color);\n",
              "    }\n",
              "    30% {\n",
              "      border-color: transparent;\n",
              "      border-left-color: var(--fill-color);\n",
              "      border-top-color: var(--fill-color);\n",
              "      border-right-color: var(--fill-color);\n",
              "    }\n",
              "    40% {\n",
              "      border-color: transparent;\n",
              "      border-right-color: var(--fill-color);\n",
              "      border-top-color: var(--fill-color);\n",
              "    }\n",
              "    60% {\n",
              "      border-color: transparent;\n",
              "      border-right-color: var(--fill-color);\n",
              "    }\n",
              "    80% {\n",
              "      border-color: transparent;\n",
              "      border-right-color: var(--fill-color);\n",
              "      border-bottom-color: var(--fill-color);\n",
              "    }\n",
              "    90% {\n",
              "      border-color: transparent;\n",
              "      border-bottom-color: var(--fill-color);\n",
              "    }\n",
              "  }\n",
              "</style>\n",
              "\n",
              "  <script>\n",
              "    async function quickchart(key) {\n",
              "      const quickchartButtonEl =\n",
              "        document.querySelector('#' + key + ' button');\n",
              "      quickchartButtonEl.disabled = true;  // To prevent multiple clicks.\n",
              "      quickchartButtonEl.classList.add('colab-df-spinner');\n",
              "      try {\n",
              "        const charts = await google.colab.kernel.invokeFunction(\n",
              "            'suggestCharts', [key], {});\n",
              "      } catch (error) {\n",
              "        console.error('Error during call to suggestCharts:', error);\n",
              "      }\n",
              "      quickchartButtonEl.classList.remove('colab-df-spinner');\n",
              "      quickchartButtonEl.classList.add('colab-df-quickchart-complete');\n",
              "    }\n",
              "    (() => {\n",
              "      let quickchartButtonEl =\n",
              "        document.querySelector('#df-39aaca12-ddc1-4994-abb7-a2ad6037f772 button');\n",
              "      quickchartButtonEl.style.display =\n",
              "        google.colab.kernel.accessAllowed ? 'block' : 'none';\n",
              "    })();\n",
              "  </script>\n",
              "</div>\n",
              "    </div>\n",
              "  </div>\n"
            ]
          },
          "metadata": {},
          "execution_count": 9
        }
      ]
    },
    {
      "cell_type": "markdown",
      "source": [
        "I choose only 6 row for better understaning and reduce time complexcity if you want to chhose more row then just change in range in df1 and slicing in demo dataframe"
      ],
      "metadata": {
        "id": "V0we52HhId-X"
      }
    },
    {
      "cell_type": "code",
      "source": [
        "demo = Data.loc[0:5]"
      ],
      "metadata": {
        "id": "p1TW9rGGhGYB"
      },
      "execution_count": 10,
      "outputs": []
    },
    {
      "cell_type": "code",
      "source": [
        "demo.head()"
      ],
      "metadata": {
        "colab": {
          "base_uri": "https://localhost:8080/",
          "height": 206
        },
        "id": "lNwIfPV_v_NW",
        "outputId": "b4fb40fb-957a-43ef-a57c-0f80c92dd493"
      },
      "execution_count": 11,
      "outputs": [
        {
          "output_type": "execute_result",
          "data": {
            "text/plain": [
              "   URL_ID                                                URL\n",
              "0   123.0  https://insights.blackcoffer.com/rise-of-telem...\n",
              "1   321.0  https://insights.blackcoffer.com/rise-of-e-hea...\n",
              "2  2345.0  https://insights.blackcoffer.com/rise-of-e-hea...\n",
              "3  4321.0  https://insights.blackcoffer.com/rise-of-telem...\n",
              "4   432.0  https://insights.blackcoffer.com/rise-of-telem..."
            ],
            "text/html": [
              "\n",
              "  <div id=\"df-b032eb35-5f54-4fdc-bd77-bbc1cd46e3eb\" class=\"colab-df-container\">\n",
              "    <div>\n",
              "<style scoped>\n",
              "    .dataframe tbody tr th:only-of-type {\n",
              "        vertical-align: middle;\n",
              "    }\n",
              "\n",
              "    .dataframe tbody tr th {\n",
              "        vertical-align: top;\n",
              "    }\n",
              "\n",
              "    .dataframe thead th {\n",
              "        text-align: right;\n",
              "    }\n",
              "</style>\n",
              "<table border=\"1\" class=\"dataframe\">\n",
              "  <thead>\n",
              "    <tr style=\"text-align: right;\">\n",
              "      <th></th>\n",
              "      <th>URL_ID</th>\n",
              "      <th>URL</th>\n",
              "    </tr>\n",
              "  </thead>\n",
              "  <tbody>\n",
              "    <tr>\n",
              "      <th>0</th>\n",
              "      <td>123.0</td>\n",
              "      <td>https://insights.blackcoffer.com/rise-of-telem...</td>\n",
              "    </tr>\n",
              "    <tr>\n",
              "      <th>1</th>\n",
              "      <td>321.0</td>\n",
              "      <td>https://insights.blackcoffer.com/rise-of-e-hea...</td>\n",
              "    </tr>\n",
              "    <tr>\n",
              "      <th>2</th>\n",
              "      <td>2345.0</td>\n",
              "      <td>https://insights.blackcoffer.com/rise-of-e-hea...</td>\n",
              "    </tr>\n",
              "    <tr>\n",
              "      <th>3</th>\n",
              "      <td>4321.0</td>\n",
              "      <td>https://insights.blackcoffer.com/rise-of-telem...</td>\n",
              "    </tr>\n",
              "    <tr>\n",
              "      <th>4</th>\n",
              "      <td>432.0</td>\n",
              "      <td>https://insights.blackcoffer.com/rise-of-telem...</td>\n",
              "    </tr>\n",
              "  </tbody>\n",
              "</table>\n",
              "</div>\n",
              "    <div class=\"colab-df-buttons\">\n",
              "\n",
              "  <div class=\"colab-df-container\">\n",
              "    <button class=\"colab-df-convert\" onclick=\"convertToInteractive('df-b032eb35-5f54-4fdc-bd77-bbc1cd46e3eb')\"\n",
              "            title=\"Convert this dataframe to an interactive table.\"\n",
              "            style=\"display:none;\">\n",
              "\n",
              "  <svg xmlns=\"http://www.w3.org/2000/svg\" height=\"24px\" viewBox=\"0 -960 960 960\">\n",
              "    <path d=\"M120-120v-720h720v720H120Zm60-500h600v-160H180v160Zm220 220h160v-160H400v160Zm0 220h160v-160H400v160ZM180-400h160v-160H180v160Zm440 0h160v-160H620v160ZM180-180h160v-160H180v160Zm440 0h160v-160H620v160Z\"/>\n",
              "  </svg>\n",
              "    </button>\n",
              "\n",
              "  <style>\n",
              "    .colab-df-container {\n",
              "      display:flex;\n",
              "      gap: 12px;\n",
              "    }\n",
              "\n",
              "    .colab-df-convert {\n",
              "      background-color: #E8F0FE;\n",
              "      border: none;\n",
              "      border-radius: 50%;\n",
              "      cursor: pointer;\n",
              "      display: none;\n",
              "      fill: #1967D2;\n",
              "      height: 32px;\n",
              "      padding: 0 0 0 0;\n",
              "      width: 32px;\n",
              "    }\n",
              "\n",
              "    .colab-df-convert:hover {\n",
              "      background-color: #E2EBFA;\n",
              "      box-shadow: 0px 1px 2px rgba(60, 64, 67, 0.3), 0px 1px 3px 1px rgba(60, 64, 67, 0.15);\n",
              "      fill: #174EA6;\n",
              "    }\n",
              "\n",
              "    .colab-df-buttons div {\n",
              "      margin-bottom: 4px;\n",
              "    }\n",
              "\n",
              "    [theme=dark] .colab-df-convert {\n",
              "      background-color: #3B4455;\n",
              "      fill: #D2E3FC;\n",
              "    }\n",
              "\n",
              "    [theme=dark] .colab-df-convert:hover {\n",
              "      background-color: #434B5C;\n",
              "      box-shadow: 0px 1px 3px 1px rgba(0, 0, 0, 0.15);\n",
              "      filter: drop-shadow(0px 1px 2px rgba(0, 0, 0, 0.3));\n",
              "      fill: #FFFFFF;\n",
              "    }\n",
              "  </style>\n",
              "\n",
              "    <script>\n",
              "      const buttonEl =\n",
              "        document.querySelector('#df-b032eb35-5f54-4fdc-bd77-bbc1cd46e3eb button.colab-df-convert');\n",
              "      buttonEl.style.display =\n",
              "        google.colab.kernel.accessAllowed ? 'block' : 'none';\n",
              "\n",
              "      async function convertToInteractive(key) {\n",
              "        const element = document.querySelector('#df-b032eb35-5f54-4fdc-bd77-bbc1cd46e3eb');\n",
              "        const dataTable =\n",
              "          await google.colab.kernel.invokeFunction('convertToInteractive',\n",
              "                                                    [key], {});\n",
              "        if (!dataTable) return;\n",
              "\n",
              "        const docLinkHtml = 'Like what you see? Visit the ' +\n",
              "          '<a target=\"_blank\" href=https://colab.research.google.com/notebooks/data_table.ipynb>data table notebook</a>'\n",
              "          + ' to learn more about interactive tables.';\n",
              "        element.innerHTML = '';\n",
              "        dataTable['output_type'] = 'display_data';\n",
              "        await google.colab.output.renderOutput(dataTable, element);\n",
              "        const docLink = document.createElement('div');\n",
              "        docLink.innerHTML = docLinkHtml;\n",
              "        element.appendChild(docLink);\n",
              "      }\n",
              "    </script>\n",
              "  </div>\n",
              "\n",
              "\n",
              "<div id=\"df-018205ac-89f0-4c58-9caf-0868becce682\">\n",
              "  <button class=\"colab-df-quickchart\" onclick=\"quickchart('df-018205ac-89f0-4c58-9caf-0868becce682')\"\n",
              "            title=\"Suggest charts.\"\n",
              "            style=\"display:none;\">\n",
              "\n",
              "<svg xmlns=\"http://www.w3.org/2000/svg\" height=\"24px\"viewBox=\"0 0 24 24\"\n",
              "     width=\"24px\">\n",
              "    <g>\n",
              "        <path d=\"M19 3H5c-1.1 0-2 .9-2 2v14c0 1.1.9 2 2 2h14c1.1 0 2-.9 2-2V5c0-1.1-.9-2-2-2zM9 17H7v-7h2v7zm4 0h-2V7h2v10zm4 0h-2v-4h2v4z\"/>\n",
              "    </g>\n",
              "</svg>\n",
              "  </button>\n",
              "\n",
              "<style>\n",
              "  .colab-df-quickchart {\n",
              "      --bg-color: #E8F0FE;\n",
              "      --fill-color: #1967D2;\n",
              "      --hover-bg-color: #E2EBFA;\n",
              "      --hover-fill-color: #174EA6;\n",
              "      --disabled-fill-color: #AAA;\n",
              "      --disabled-bg-color: #DDD;\n",
              "  }\n",
              "\n",
              "  [theme=dark] .colab-df-quickchart {\n",
              "      --bg-color: #3B4455;\n",
              "      --fill-color: #D2E3FC;\n",
              "      --hover-bg-color: #434B5C;\n",
              "      --hover-fill-color: #FFFFFF;\n",
              "      --disabled-bg-color: #3B4455;\n",
              "      --disabled-fill-color: #666;\n",
              "  }\n",
              "\n",
              "  .colab-df-quickchart {\n",
              "    background-color: var(--bg-color);\n",
              "    border: none;\n",
              "    border-radius: 50%;\n",
              "    cursor: pointer;\n",
              "    display: none;\n",
              "    fill: var(--fill-color);\n",
              "    height: 32px;\n",
              "    padding: 0;\n",
              "    width: 32px;\n",
              "  }\n",
              "\n",
              "  .colab-df-quickchart:hover {\n",
              "    background-color: var(--hover-bg-color);\n",
              "    box-shadow: 0 1px 2px rgba(60, 64, 67, 0.3), 0 1px 3px 1px rgba(60, 64, 67, 0.15);\n",
              "    fill: var(--button-hover-fill-color);\n",
              "  }\n",
              "\n",
              "  .colab-df-quickchart-complete:disabled,\n",
              "  .colab-df-quickchart-complete:disabled:hover {\n",
              "    background-color: var(--disabled-bg-color);\n",
              "    fill: var(--disabled-fill-color);\n",
              "    box-shadow: none;\n",
              "  }\n",
              "\n",
              "  .colab-df-spinner {\n",
              "    border: 2px solid var(--fill-color);\n",
              "    border-color: transparent;\n",
              "    border-bottom-color: var(--fill-color);\n",
              "    animation:\n",
              "      spin 1s steps(1) infinite;\n",
              "  }\n",
              "\n",
              "  @keyframes spin {\n",
              "    0% {\n",
              "      border-color: transparent;\n",
              "      border-bottom-color: var(--fill-color);\n",
              "      border-left-color: var(--fill-color);\n",
              "    }\n",
              "    20% {\n",
              "      border-color: transparent;\n",
              "      border-left-color: var(--fill-color);\n",
              "      border-top-color: var(--fill-color);\n",
              "    }\n",
              "    30% {\n",
              "      border-color: transparent;\n",
              "      border-left-color: var(--fill-color);\n",
              "      border-top-color: var(--fill-color);\n",
              "      border-right-color: var(--fill-color);\n",
              "    }\n",
              "    40% {\n",
              "      border-color: transparent;\n",
              "      border-right-color: var(--fill-color);\n",
              "      border-top-color: var(--fill-color);\n",
              "    }\n",
              "    60% {\n",
              "      border-color: transparent;\n",
              "      border-right-color: var(--fill-color);\n",
              "    }\n",
              "    80% {\n",
              "      border-color: transparent;\n",
              "      border-right-color: var(--fill-color);\n",
              "      border-bottom-color: var(--fill-color);\n",
              "    }\n",
              "    90% {\n",
              "      border-color: transparent;\n",
              "      border-bottom-color: var(--fill-color);\n",
              "    }\n",
              "  }\n",
              "</style>\n",
              "\n",
              "  <script>\n",
              "    async function quickchart(key) {\n",
              "      const quickchartButtonEl =\n",
              "        document.querySelector('#' + key + ' button');\n",
              "      quickchartButtonEl.disabled = true;  // To prevent multiple clicks.\n",
              "      quickchartButtonEl.classList.add('colab-df-spinner');\n",
              "      try {\n",
              "        const charts = await google.colab.kernel.invokeFunction(\n",
              "            'suggestCharts', [key], {});\n",
              "      } catch (error) {\n",
              "        console.error('Error during call to suggestCharts:', error);\n",
              "      }\n",
              "      quickchartButtonEl.classList.remove('colab-df-spinner');\n",
              "      quickchartButtonEl.classList.add('colab-df-quickchart-complete');\n",
              "    }\n",
              "    (() => {\n",
              "      let quickchartButtonEl =\n",
              "        document.querySelector('#df-018205ac-89f0-4c58-9caf-0868becce682 button');\n",
              "      quickchartButtonEl.style.display =\n",
              "        google.colab.kernel.accessAllowed ? 'block' : 'none';\n",
              "    })();\n",
              "  </script>\n",
              "</div>\n",
              "    </div>\n",
              "  </div>\n"
            ]
          },
          "metadata": {},
          "execution_count": 11
        }
      ]
    },
    {
      "cell_type": "code",
      "source": [
        "df=pd.concat([demo,df1], axis=1)"
      ],
      "metadata": {
        "id": "ZtxaiLy5fy-X"
      },
      "execution_count": 12,
      "outputs": []
    },
    {
      "cell_type": "code",
      "source": [
        "df.head()"
      ],
      "metadata": {
        "colab": {
          "base_uri": "https://localhost:8080/",
          "height": 206
        },
        "id": "Z6UujJY-JjC2",
        "outputId": "a9c8f531-71ea-4104-e893-266589dac381"
      },
      "execution_count": 13,
      "outputs": [
        {
          "output_type": "execute_result",
          "data": {
            "text/plain": [
              "   URL_ID                                                URL  \\\n",
              "0   123.0  https://insights.blackcoffer.com/rise-of-telem...   \n",
              "1   321.0  https://insights.blackcoffer.com/rise-of-e-hea...   \n",
              "2  2345.0  https://insights.blackcoffer.com/rise-of-e-hea...   \n",
              "3  4321.0  https://insights.blackcoffer.com/rise-of-telem...   \n",
              "4   432.0  https://insights.blackcoffer.com/rise-of-telem...   \n",
              "\n",
              "                                               Title  \\\n",
              "0  Rise of telemedicine and its Impact on Livelih...   \n",
              "1  Rise of e-health and its impact on humans by t...   \n",
              "2  Rise of e-health and its impact on humans by t...   \n",
              "3  Rise of telemedicine and its Impact on Livelih...   \n",
              "4  Rise of telemedicine and its Impact on Livelih...   \n",
              "\n",
              "                                                Text  \n",
              "0         Rise of telemedicine and its Impact on ...  \n",
              "1         Rise of e-health and its impact on huma...  \n",
              "2         Rise of e-health and its impact on huma...  \n",
              "3         Rise of telemedicine and its Impact on ...  \n",
              "4         Rise of telemedicine and its Impact on ...  "
            ],
            "text/html": [
              "\n",
              "  <div id=\"df-04f33d9f-ef00-4e3d-b80c-2298b07b543b\" class=\"colab-df-container\">\n",
              "    <div>\n",
              "<style scoped>\n",
              "    .dataframe tbody tr th:only-of-type {\n",
              "        vertical-align: middle;\n",
              "    }\n",
              "\n",
              "    .dataframe tbody tr th {\n",
              "        vertical-align: top;\n",
              "    }\n",
              "\n",
              "    .dataframe thead th {\n",
              "        text-align: right;\n",
              "    }\n",
              "</style>\n",
              "<table border=\"1\" class=\"dataframe\">\n",
              "  <thead>\n",
              "    <tr style=\"text-align: right;\">\n",
              "      <th></th>\n",
              "      <th>URL_ID</th>\n",
              "      <th>URL</th>\n",
              "      <th>Title</th>\n",
              "      <th>Text</th>\n",
              "    </tr>\n",
              "  </thead>\n",
              "  <tbody>\n",
              "    <tr>\n",
              "      <th>0</th>\n",
              "      <td>123.0</td>\n",
              "      <td>https://insights.blackcoffer.com/rise-of-telem...</td>\n",
              "      <td>Rise of telemedicine and its Impact on Livelih...</td>\n",
              "      <td>Rise of telemedicine and its Impact on ...</td>\n",
              "    </tr>\n",
              "    <tr>\n",
              "      <th>1</th>\n",
              "      <td>321.0</td>\n",
              "      <td>https://insights.blackcoffer.com/rise-of-e-hea...</td>\n",
              "      <td>Rise of e-health and its impact on humans by t...</td>\n",
              "      <td>Rise of e-health and its impact on huma...</td>\n",
              "    </tr>\n",
              "    <tr>\n",
              "      <th>2</th>\n",
              "      <td>2345.0</td>\n",
              "      <td>https://insights.blackcoffer.com/rise-of-e-hea...</td>\n",
              "      <td>Rise of e-health and its impact on humans by t...</td>\n",
              "      <td>Rise of e-health and its impact on huma...</td>\n",
              "    </tr>\n",
              "    <tr>\n",
              "      <th>3</th>\n",
              "      <td>4321.0</td>\n",
              "      <td>https://insights.blackcoffer.com/rise-of-telem...</td>\n",
              "      <td>Rise of telemedicine and its Impact on Livelih...</td>\n",
              "      <td>Rise of telemedicine and its Impact on ...</td>\n",
              "    </tr>\n",
              "    <tr>\n",
              "      <th>4</th>\n",
              "      <td>432.0</td>\n",
              "      <td>https://insights.blackcoffer.com/rise-of-telem...</td>\n",
              "      <td>Rise of telemedicine and its Impact on Livelih...</td>\n",
              "      <td>Rise of telemedicine and its Impact on ...</td>\n",
              "    </tr>\n",
              "  </tbody>\n",
              "</table>\n",
              "</div>\n",
              "    <div class=\"colab-df-buttons\">\n",
              "\n",
              "  <div class=\"colab-df-container\">\n",
              "    <button class=\"colab-df-convert\" onclick=\"convertToInteractive('df-04f33d9f-ef00-4e3d-b80c-2298b07b543b')\"\n",
              "            title=\"Convert this dataframe to an interactive table.\"\n",
              "            style=\"display:none;\">\n",
              "\n",
              "  <svg xmlns=\"http://www.w3.org/2000/svg\" height=\"24px\" viewBox=\"0 -960 960 960\">\n",
              "    <path d=\"M120-120v-720h720v720H120Zm60-500h600v-160H180v160Zm220 220h160v-160H400v160Zm0 220h160v-160H400v160ZM180-400h160v-160H180v160Zm440 0h160v-160H620v160ZM180-180h160v-160H180v160Zm440 0h160v-160H620v160Z\"/>\n",
              "  </svg>\n",
              "    </button>\n",
              "\n",
              "  <style>\n",
              "    .colab-df-container {\n",
              "      display:flex;\n",
              "      gap: 12px;\n",
              "    }\n",
              "\n",
              "    .colab-df-convert {\n",
              "      background-color: #E8F0FE;\n",
              "      border: none;\n",
              "      border-radius: 50%;\n",
              "      cursor: pointer;\n",
              "      display: none;\n",
              "      fill: #1967D2;\n",
              "      height: 32px;\n",
              "      padding: 0 0 0 0;\n",
              "      width: 32px;\n",
              "    }\n",
              "\n",
              "    .colab-df-convert:hover {\n",
              "      background-color: #E2EBFA;\n",
              "      box-shadow: 0px 1px 2px rgba(60, 64, 67, 0.3), 0px 1px 3px 1px rgba(60, 64, 67, 0.15);\n",
              "      fill: #174EA6;\n",
              "    }\n",
              "\n",
              "    .colab-df-buttons div {\n",
              "      margin-bottom: 4px;\n",
              "    }\n",
              "\n",
              "    [theme=dark] .colab-df-convert {\n",
              "      background-color: #3B4455;\n",
              "      fill: #D2E3FC;\n",
              "    }\n",
              "\n",
              "    [theme=dark] .colab-df-convert:hover {\n",
              "      background-color: #434B5C;\n",
              "      box-shadow: 0px 1px 3px 1px rgba(0, 0, 0, 0.15);\n",
              "      filter: drop-shadow(0px 1px 2px rgba(0, 0, 0, 0.3));\n",
              "      fill: #FFFFFF;\n",
              "    }\n",
              "  </style>\n",
              "\n",
              "    <script>\n",
              "      const buttonEl =\n",
              "        document.querySelector('#df-04f33d9f-ef00-4e3d-b80c-2298b07b543b button.colab-df-convert');\n",
              "      buttonEl.style.display =\n",
              "        google.colab.kernel.accessAllowed ? 'block' : 'none';\n",
              "\n",
              "      async function convertToInteractive(key) {\n",
              "        const element = document.querySelector('#df-04f33d9f-ef00-4e3d-b80c-2298b07b543b');\n",
              "        const dataTable =\n",
              "          await google.colab.kernel.invokeFunction('convertToInteractive',\n",
              "                                                    [key], {});\n",
              "        if (!dataTable) return;\n",
              "\n",
              "        const docLinkHtml = 'Like what you see? Visit the ' +\n",
              "          '<a target=\"_blank\" href=https://colab.research.google.com/notebooks/data_table.ipynb>data table notebook</a>'\n",
              "          + ' to learn more about interactive tables.';\n",
              "        element.innerHTML = '';\n",
              "        dataTable['output_type'] = 'display_data';\n",
              "        await google.colab.output.renderOutput(dataTable, element);\n",
              "        const docLink = document.createElement('div');\n",
              "        docLink.innerHTML = docLinkHtml;\n",
              "        element.appendChild(docLink);\n",
              "      }\n",
              "    </script>\n",
              "  </div>\n",
              "\n",
              "\n",
              "<div id=\"df-d6c4a3f7-71d0-41bb-ae2f-eb8942817d49\">\n",
              "  <button class=\"colab-df-quickchart\" onclick=\"quickchart('df-d6c4a3f7-71d0-41bb-ae2f-eb8942817d49')\"\n",
              "            title=\"Suggest charts.\"\n",
              "            style=\"display:none;\">\n",
              "\n",
              "<svg xmlns=\"http://www.w3.org/2000/svg\" height=\"24px\"viewBox=\"0 0 24 24\"\n",
              "     width=\"24px\">\n",
              "    <g>\n",
              "        <path d=\"M19 3H5c-1.1 0-2 .9-2 2v14c0 1.1.9 2 2 2h14c1.1 0 2-.9 2-2V5c0-1.1-.9-2-2-2zM9 17H7v-7h2v7zm4 0h-2V7h2v10zm4 0h-2v-4h2v4z\"/>\n",
              "    </g>\n",
              "</svg>\n",
              "  </button>\n",
              "\n",
              "<style>\n",
              "  .colab-df-quickchart {\n",
              "      --bg-color: #E8F0FE;\n",
              "      --fill-color: #1967D2;\n",
              "      --hover-bg-color: #E2EBFA;\n",
              "      --hover-fill-color: #174EA6;\n",
              "      --disabled-fill-color: #AAA;\n",
              "      --disabled-bg-color: #DDD;\n",
              "  }\n",
              "\n",
              "  [theme=dark] .colab-df-quickchart {\n",
              "      --bg-color: #3B4455;\n",
              "      --fill-color: #D2E3FC;\n",
              "      --hover-bg-color: #434B5C;\n",
              "      --hover-fill-color: #FFFFFF;\n",
              "      --disabled-bg-color: #3B4455;\n",
              "      --disabled-fill-color: #666;\n",
              "  }\n",
              "\n",
              "  .colab-df-quickchart {\n",
              "    background-color: var(--bg-color);\n",
              "    border: none;\n",
              "    border-radius: 50%;\n",
              "    cursor: pointer;\n",
              "    display: none;\n",
              "    fill: var(--fill-color);\n",
              "    height: 32px;\n",
              "    padding: 0;\n",
              "    width: 32px;\n",
              "  }\n",
              "\n",
              "  .colab-df-quickchart:hover {\n",
              "    background-color: var(--hover-bg-color);\n",
              "    box-shadow: 0 1px 2px rgba(60, 64, 67, 0.3), 0 1px 3px 1px rgba(60, 64, 67, 0.15);\n",
              "    fill: var(--button-hover-fill-color);\n",
              "  }\n",
              "\n",
              "  .colab-df-quickchart-complete:disabled,\n",
              "  .colab-df-quickchart-complete:disabled:hover {\n",
              "    background-color: var(--disabled-bg-color);\n",
              "    fill: var(--disabled-fill-color);\n",
              "    box-shadow: none;\n",
              "  }\n",
              "\n",
              "  .colab-df-spinner {\n",
              "    border: 2px solid var(--fill-color);\n",
              "    border-color: transparent;\n",
              "    border-bottom-color: var(--fill-color);\n",
              "    animation:\n",
              "      spin 1s steps(1) infinite;\n",
              "  }\n",
              "\n",
              "  @keyframes spin {\n",
              "    0% {\n",
              "      border-color: transparent;\n",
              "      border-bottom-color: var(--fill-color);\n",
              "      border-left-color: var(--fill-color);\n",
              "    }\n",
              "    20% {\n",
              "      border-color: transparent;\n",
              "      border-left-color: var(--fill-color);\n",
              "      border-top-color: var(--fill-color);\n",
              "    }\n",
              "    30% {\n",
              "      border-color: transparent;\n",
              "      border-left-color: var(--fill-color);\n",
              "      border-top-color: var(--fill-color);\n",
              "      border-right-color: var(--fill-color);\n",
              "    }\n",
              "    40% {\n",
              "      border-color: transparent;\n",
              "      border-right-color: var(--fill-color);\n",
              "      border-top-color: var(--fill-color);\n",
              "    }\n",
              "    60% {\n",
              "      border-color: transparent;\n",
              "      border-right-color: var(--fill-color);\n",
              "    }\n",
              "    80% {\n",
              "      border-color: transparent;\n",
              "      border-right-color: var(--fill-color);\n",
              "      border-bottom-color: var(--fill-color);\n",
              "    }\n",
              "    90% {\n",
              "      border-color: transparent;\n",
              "      border-bottom-color: var(--fill-color);\n",
              "    }\n",
              "  }\n",
              "</style>\n",
              "\n",
              "  <script>\n",
              "    async function quickchart(key) {\n",
              "      const quickchartButtonEl =\n",
              "        document.querySelector('#' + key + ' button');\n",
              "      quickchartButtonEl.disabled = true;  // To prevent multiple clicks.\n",
              "      quickchartButtonEl.classList.add('colab-df-spinner');\n",
              "      try {\n",
              "        const charts = await google.colab.kernel.invokeFunction(\n",
              "            'suggestCharts', [key], {});\n",
              "      } catch (error) {\n",
              "        console.error('Error during call to suggestCharts:', error);\n",
              "      }\n",
              "      quickchartButtonEl.classList.remove('colab-df-spinner');\n",
              "      quickchartButtonEl.classList.add('colab-df-quickchart-complete');\n",
              "    }\n",
              "    (() => {\n",
              "      let quickchartButtonEl =\n",
              "        document.querySelector('#df-d6c4a3f7-71d0-41bb-ae2f-eb8942817d49 button');\n",
              "      quickchartButtonEl.style.display =\n",
              "        google.colab.kernel.accessAllowed ? 'block' : 'none';\n",
              "    })();\n",
              "  </script>\n",
              "</div>\n",
              "    </div>\n",
              "  </div>\n"
            ]
          },
          "metadata": {},
          "execution_count": 13
        }
      ]
    },
    {
      "cell_type": "code",
      "source": [
        "df.shape"
      ],
      "metadata": {
        "colab": {
          "base_uri": "https://localhost:8080/"
        },
        "id": "w0-JGBztXvdz",
        "outputId": "8bf1dc98-1d7e-471a-b5d2-f075d1e9038a"
      },
      "execution_count": 14,
      "outputs": [
        {
          "output_type": "execute_result",
          "data": {
            "text/plain": [
              "(6, 4)"
            ]
          },
          "metadata": {},
          "execution_count": 14
        }
      ]
    },
    {
      "cell_type": "code",
      "source": [
        "df['Text'][1]"
      ],
      "metadata": {
        "colab": {
          "base_uri": "https://localhost:8080/",
          "height": 127
        },
        "id": "IXaeLjmFJoUM",
        "outputId": "7e791786-9685-4d71-a3ef-e6b8bd892b7e"
      },
      "execution_count": 15,
      "outputs": [
        {
          "output_type": "execute_result",
          "data": {
            "text/plain": [
              "'       Rise of e-health and its impact on humans by the year 2030 - Blackcoffer Insights                                                                                            Sign in     Our Success Stories  Banking, Financials, Securities, and Insurance Energy Entertainment Fast Moving Consumer Goods Government & Think Tanks Healthcare Infrastructure & Real Estate IT Lifestyle, eCommerce & Online Market Place Production & Manufacturing Research & Academia Retail & Supply Chain Telecom   What We Do  Banking, Financials, Securities, and Insurance Energy Entertainment Fast Moving Consumer Goods Government & Think Tanks Healthcare Hospitality Infrastructure & Real Estate IT Services Lifestyle, eCommerce & Online Market Place News & Media Production & Manufacturing Research & Academia Retail & Supply Chain   What We Think  Automobiles & Components BFSI Asset and Portfolio Banks Capital Markets Derivatives and Securities Diversified Financials Finance & Accounting Insurance Securities and Capital Markets Capital Goods Commercial & Professional Services Consumer Discretionary Consumer Durables & Apparel Consumer Services Consumer Staples Food & Staples Retailing Food, Beverage & Tobacco Household & Personal Products Data Science Analytics Artificial Intelligence Big Data Business Analytics Data Visualization Internet of Things Machine Learning Statistics Energy DataOil   How To  Analytics Application Development Artificial Intelligence Business Analytics Example Optimization Projects Software Development Source Code Audit Statistics Web & Mobile App Development   Schedule Demo Contact          Sign in       Welcome!Log into your account  your username your password   Forgot your password?          Password recovery   Recover your password  your email               Search                                       Sign in Welcome! Log into your account   your username your password   Forgot your password? Get help   Password recovery Recover your password   your email   A password will be e-mailed to you.           Wednesday, October 4, 2023     Sign in / Join   Our Success Stories What We Do What We Think How To Schedule Demo Contact   FacebookLinkedinTwitterYoutube               Our Success Stories   AllBanking, Financials, Securities, and InsuranceEnergyEntertainmentFast Moving Consumer GoodsGovernment & Think TanksHealthcareInfrastructure & Real EstateITLifestyle, eCommerce & Online Market PlaceProduction & ManufacturingResearch & Academia    Our Success Stories    Automate the Data Management Process   August 8, 2023         Our Success Stories    Realtime Kibana Dashboard for a financial tech firm   August 8, 2023         Our Success Stories    Data Management, ETL, and Data Automation   August 6, 2023         Our Success Stories    Data Management – EGEAS   August 6, 2023          What We Do   AllBanking, Financials, Securities, and InsuranceEnergyEntertainmentFast Moving Consumer GoodsGovernment & Think TanksHealthcareHospitalityInfrastructure & Real EstateIT ServicesLifestyle, eCommerce & Online Market PlaceNews & Media    What We Do    How To Secure (SSL) Nginx with Let’s Encrypt on Ubuntu (Cloud VM, GCP, AWS, Azure, Linode) and Add Domain   August 8, 2023         What We Do    Deploy and view React app(Nextjs) on cloud VM such as GCP, AWS, Azure, Linode   August 8, 2023         What We Do    Deploy Nodejs app on a cloud VM such as GCP, AWS, Azure, Linode   August 8, 2023         What We Do    Grafana Dashboard – Oscar Awards   July 8, 2023          What We Think   AllAutomobiles & ComponentsBFSIAsset and PortfolioBanksCapital MarketsDerivatives and SecuritiesDiversified FinancialsFinance & AccountingInsuranceSecurities and Capital MarketsCapital Goods    What We Think    Rising IT cities and its impact on the economy, environment, infrastructure, and city life by the year 2040.   August 24, 2023         What We Think    Rising IT Cities and Their Impact on the Economy, Environment, Infrastructure, and City Life in Future   August 18, 2023         What We Think    Internet Demand’s Evolution, Communication Impact, and 2035’s Alternative Pathways   August 18, 2023         What We Think    Rise of Cybercrime and its Effect in upcoming Future   August 18, 2023          How To   AllAnalyticsApplication DevelopmentArtificial IntelligenceBusiness AnalyticsExampleOptimizationProjectsSoftware DevelopmentSource Code AuditStatisticsWeb & Mobile App Development    What We Do    AI/ML and Predictive Modeling   February 3, 2022         Blackcoffer    Solution for Contact Centre Problems   April 26, 2021         How To    How to Setup Custom Domain for Google App Engine Application?   February 13, 2021         How To    Code Review Checklist   April 10, 2020          Schedule Demo Contact   Search             Home  What We Think  Rise of e-health and its impact on humans by the year 2030    BlackcofferFutureForecastsWhat We ThinkHealthcareHealth Care Equipment & Services Rise of e-health and its impact on humans by the year 2030  By Ajay Bidyarthy -   January 2, 2023 3505                The rise of e-health, or the use of electronic means to facilitate health care, has been a major development in the healthcare industry in recent years. The use of technology to improve access to healthcare and make it more efficient has the potential to revolutionize the way we think about healthcare and its delivery. By 2030, it is likely that e-health will have a significant impact on the way we receive and provide healthcare, and this essay will explore the potential impacts of e-health on humans by that year. One of the main benefits of e-health is the increased access it provides to healthcare services. With the use of telemedicine and other remote care technologies, patients can receive care from anywhere with an internet connection. This can be particularly beneficial for those who live in rural or underserved areas, where access to healthcare providers may be limited. It can also be useful for those with mobility issues or disabilities that make it difficult for them to visit a healthcare facility in person. By 2030, it is likely that the use of telemedicine and other remote care technologies will become even more widespread, potentially leading to a decrease in healthcare disparities and an increase in access to care for those who may have previously had difficulty accessing it. In addition to increasing access to care, e-health has the potential to improve the efficiency of the healthcare system. By using electronic medical records and other digital technologies, healthcare providers can more easily share and access patient information, streamlining the process of providing care. This can lead to more accurate diagnoses and treatment plans, and potentially reduce the need for unnecessary or redundant tests and procedures. By 2030, it is likely that the use of electronic medical records and other digital technologies will become even more widespread, potentially leading to a more efficient and effective healthcare system. Another potential impact of e-health by 2030 is the ability to use data analytics to improve population health. By collecting and analyzing data on patient health and healthcare utilization, healthcare providers can identify trends and patterns that may help them better understand and address the health needs of their patient populations. This could lead to the development of targeted interventions and prevention strategies that are more effective at improving population health. Additionally, the use of wearable technology and other digital health devices can help individuals track and manage their own health, potentially leading to improved health outcomes for individuals and populations. While the potential benefits of e-health are significant, there are also potential challenges and drawbacks to consider. One concern is the potential for cybersecurity breaches, which could compromise the confidentiality and privacy of patient information. It is important for healthcare organizations to prioritize cybersecurity and ensure that appropriate measures are in place to protect patient data. Another concern is the potential for the use of e-health to exacerbate healthcare disparities, as those who are unable to afford or access the necessary technology may be left behind. Ensuring that e-health technologies are accessible and affordable to all is an important consideration as the use of e-health continues to grow. In conclusion, by 2030 it is likely that e-health will have a significant impact on the way we receive and provide healthcare. The increased access to care and improved efficiency provided by e-health technologies have the potential to revolutionize the healthcare industry and improve health outcomes for individuals and populations. However, it is important to consider and address potential challenges and drawbacks, such as cybersecurity concerns and healthcare disparities, as the use of e-health continues to grow. Blackcoffer Insights 46:  Atishay Jain, Shaheed Sukhdev College of Business Studies (SSCBS)    TAGSAIBig DataHealthcareMl  Previous articleRise of e-health and its impact on humans by the year 2030Next articleRise of telemedicine and its Impact on Livelihood by 2040 Ajay Bidyarthy   RELATED ARTICLESMORE FROM AUTHOR        Rise of cybercrime and its effect by the year 2040.           Rising IT cities and its impact on the economy, environment, infrastructure, and city life by the year 2040.           Rising IT Cities and Their Impact on the Economy, Environment, Infrastructure, and City Life in Future              - Advertisement -MOST POPULAR INSIGHTS     AI solution for a Technology, Information and Internet firm  July 26, 2023          Big Data & Analytics to Bring Transparency and Good Governance  April 19, 2019          Data integration and big data performance using Elasticsearch  July 13, 2022          Accounts Payables Analytics  October 3, 2020     Load more RECOMMENDED INSIGHTS      Real-time dashboard to monitor infrastructure activity and Machines         Impact of COVID-19 pandemic on Tourism & Aviation industries         OCR (Optical Character Recognition)         Database Normalization & Segmentation with Google Data Studio Dashboard Insights                        LATEST INSIGHTS       Rise of cybercrime and its effect by the year 2040.   August 28, 2023            Rising IT cities and its impact on the economy, environment, infrastructure, and city life by the year 2040.   August 24, 2023            Rising IT Cities and Their Impact on the Economy, Environment, Infrastructure, and City Life in Future   August 18, 2023         POPULAR INSIGHTS       Rise of cybercrime and its effect by the year 2040.   August 28, 2023            Rising IT cities and its impact on the economy, environment, infrastructure, and city life by the year 2040.   August 24, 2023            Rising IT Cities and Their Impact on the Economy, Environment, Infrastructure, and City Life in Future   August 18, 2023         POPULAR INSIGHTS CATEGORYWhat We Think178Our Success Stories171Blackcoffer123IT66Artificial Intelligence53Healthcare52Big Data44Lifestyle, eCommerce & Online Market Place40            ABOUT US  We provide intelligence, accelerate innovation and implement technology with extraordinary breadth and depth global insights into the big data,data-driven dashboards, applications development, and information management for organizations through combining unique, specialist services and high-lvel human expertise.  Contact us: hello@blackcoffer.com   FOLLOW US  FacebookLinkedinTwitterYoutube     © All Right Reserved, Blackcoffer(OPC) Pvt. Ltd   Our Success Stories What We Do What We Think How To Schedule Demo Contact                      '"
            ],
            "application/vnd.google.colaboratory.intrinsic+json": {
              "type": "string"
            }
          },
          "metadata": {},
          "execution_count": 15
        }
      ]
    },
    {
      "cell_type": "markdown",
      "source": [
        "Converting to lower case"
      ],
      "metadata": {
        "id": "hE_QcUxNKlP5"
      }
    },
    {
      "cell_type": "code",
      "source": [
        "# df['Text'] = df['Text'].str.lower()"
      ],
      "metadata": {
        "id": "22RLnFshKaaQ"
      },
      "execution_count": 16,
      "outputs": []
    },
    {
      "cell_type": "markdown",
      "source": [
        "Remove Hyper-links\n"
      ],
      "metadata": {
        "id": "JGkcf-7OMeeU"
      }
    },
    {
      "cell_type": "code",
      "source": [
        "df['Text'] = df['Text'].str.replace(r\"http\\S+\",\"\", regex=True)"
      ],
      "metadata": {
        "id": "lAeQgroFKo1b"
      },
      "execution_count": 17,
      "outputs": []
    },
    {
      "cell_type": "markdown",
      "source": [
        "Remove Emoji"
      ],
      "metadata": {
        "id": "q2xGP8eQ2IuP"
      }
    },
    {
      "cell_type": "code",
      "source": [
        "# Remove Emojis if needed\n",
        "# def remove_emoji(string):\n",
        "#     emoji_pattern = re.compile(\"[\"\n",
        "#                            u\"\\U0001F600-\\U0001F64F\"  # emoticons\n",
        "#                            u\"\\U0001F300-\\U0001F5FF\"  # symbols & pictographs\n",
        "#                            u\"\\U0001F680-\\U0001F6FF\"  # transport & map symbols\n",
        "#                            u\"\\U0001F1E0-\\U0001F1FF\"  # flags (iOS)\n",
        "#                            u\"\\U00002702-\\U000027B0\"\n",
        "#                            u\"\\U000024C2-\\U0001F251\"\n",
        "#                            \"]+\", flags=re.UNICODE)\n",
        "#     return emoji_pattern.sub(r'', string)"
      ],
      "metadata": {
        "id": "ULhktL36LOkZ"
      },
      "execution_count": 18,
      "outputs": []
    },
    {
      "cell_type": "markdown",
      "source": [
        "Remove Whitespace\n"
      ],
      "metadata": {
        "id": "l_pFFEmULSvS"
      }
    },
    {
      "cell_type": "code",
      "source": [
        "def remove_whitespace(text):\n",
        "    return  \" \".join(text.split())\n",
        "\n",
        "df[\"Text\"]= df[\"Text\"].apply(remove_whitespace)"
      ],
      "metadata": {
        "id": "SYYErHPfN5pP"
      },
      "execution_count": 19,
      "outputs": []
    },
    {
      "cell_type": "markdown",
      "source": [
        "Remove numbers"
      ],
      "metadata": {
        "id": "s8MkFoWG7gA9"
      }
    },
    {
      "cell_type": "code",
      "source": [
        "def remove_numbers(text):\n",
        "    result = re.sub(r'\\d+', '', text)\n",
        "    return result\n",
        "\n",
        "df[\"Text\"]= df[\"Text\"].apply(remove_numbers)"
      ],
      "metadata": {
        "id": "vpA6pwF-7fmp"
      },
      "execution_count": 20,
      "outputs": []
    },
    {
      "cell_type": "markdown",
      "source": [
        "Spelling checker"
      ],
      "metadata": {
        "id": "xKRCD-go8onm"
      }
    },
    {
      "cell_type": "code",
      "source": [
        "df[\"Text\"] = df[\"Text\"].apply(lambda x: str(TextBlob(x)))"
      ],
      "metadata": {
        "id": "qe3t2MmZN6Wh"
      },
      "execution_count": 21,
      "outputs": []
    },
    {
      "cell_type": "markdown",
      "source": [
        "Remove Punctuation"
      ],
      "metadata": {
        "id": "L39MFSLEK06v"
      }
    },
    {
      "cell_type": "code",
      "source": [
        "def remove_punctuation(text):\n",
        "    return re.sub(r'[^\\w\\s.]', '', text)\n",
        "\n",
        "df['Text'] = df['Text'].apply(remove_punctuation)\n"
      ],
      "metadata": {
        "id": "OYTaJSiPK7GC"
      },
      "execution_count": 22,
      "outputs": []
    },
    {
      "cell_type": "markdown",
      "source": [
        "Remove Stopwords"
      ],
      "metadata": {
        "id": "JgjDJtkPxHUL"
      }
    },
    {
      "cell_type": "code",
      "source": [
        "def removeStopWords(series, stopWords):\n",
        "  data = []\n",
        "  for series in series:\n",
        "    words = series.split()\n",
        "    filteredWords = [ word for word in words if word not in stopWords ]\n",
        "    data.append(' '.join(filteredWords))\n",
        "\n",
        "  return data"
      ],
      "metadata": {
        "id": "svY8TUkVbcro"
      },
      "execution_count": 23,
      "outputs": []
    },
    {
      "cell_type": "code",
      "source": [
        "path = \"/content/stopwords/\"\n",
        "\n",
        "dir  = os.listdir(path)\n",
        "\n",
        "for file in dir:\n",
        "  # print(\"file : \" + file, end=\"\\n\")\n",
        "  if(file.startswith(\"Stop\")):\n",
        "    with open(path+file,\"r\",encoding=\"ISO-8859-1\") as f:\n",
        "            data = f.read()\n",
        "            stopWords = data.split('\\n')\n",
        "\n",
        "            df['Text'] = removeStopWords(df['Text'], stopWords)"
      ],
      "metadata": {
        "id": "l4bb_0_sbgsP"
      },
      "execution_count": 24,
      "outputs": []
    },
    {
      "cell_type": "markdown",
      "source": [
        "Text Normalization"
      ],
      "metadata": {
        "id": "9U1CZztp-pVB"
      }
    },
    {
      "cell_type": "code",
      "source": [
        "nltk.download('wordnet')\n",
        "lemmatizer = WordNetLemmatizer()"
      ],
      "metadata": {
        "id": "Ws6nrmDRN6cu",
        "colab": {
          "base_uri": "https://localhost:8080/"
        },
        "outputId": "1b72ae41-2608-43a8-df73-9ea51a4ce3cb"
      },
      "execution_count": 25,
      "outputs": [
        {
          "output_type": "stream",
          "name": "stderr",
          "text": [
            "[nltk_data] Downloading package wordnet to /root/nltk_data...\n",
            "[nltk_data]   Package wordnet is already up-to-date!\n"
          ]
        }
      ]
    },
    {
      "cell_type": "code",
      "source": [
        "def lemmatize_words(text):\n",
        "  words = text.split()\n",
        "  words = [lemmatizer.lemmatize(word,pos='v') for word in words]\n",
        "  return ' '.join(words)"
      ],
      "metadata": {
        "id": "HBp0QIncn8pU"
      },
      "execution_count": 26,
      "outputs": []
    },
    {
      "cell_type": "code",
      "source": [
        "df['Text'] = df['Text'].apply(lemmatize_words)"
      ],
      "metadata": {
        "id": "q2jsRaYzeF1z"
      },
      "execution_count": 27,
      "outputs": []
    },
    {
      "cell_type": "markdown",
      "source": [
        "Tokenization"
      ],
      "metadata": {
        "id": "RsNVX1v8nb12"
      }
    },
    {
      "cell_type": "code",
      "source": [
        "nltk.download('punkt')"
      ],
      "metadata": {
        "id": "_t3xs06jHxS7",
        "colab": {
          "base_uri": "https://localhost:8080/"
        },
        "outputId": "6ceca920-3fd4-48a3-8b1b-2db23cdcc8a9"
      },
      "execution_count": 28,
      "outputs": [
        {
          "output_type": "stream",
          "name": "stderr",
          "text": [
            "[nltk_data] Downloading package punkt to /root/nltk_data...\n",
            "[nltk_data]   Package punkt is already up-to-date!\n"
          ]
        },
        {
          "output_type": "execute_result",
          "data": {
            "text/plain": [
              "True"
            ]
          },
          "metadata": {},
          "execution_count": 28
        }
      ]
    },
    {
      "cell_type": "code",
      "source": [
        "def tokens(text):\n",
        "  nltk_tokens = nltk.word_tokenize(text)\n",
        "  return nltk_tokens\n",
        "\n",
        "df[\"tokens\"] = df.Text.apply(tokens)\n"
      ],
      "metadata": {
        "id": "LvaG9L3h3NR7"
      },
      "execution_count": 29,
      "outputs": []
    },
    {
      "cell_type": "markdown",
      "source": [
        "Count number of words in Text"
      ],
      "metadata": {
        "id": "sqO-sd1MGh9L"
      }
    },
    {
      "cell_type": "code",
      "source": [
        "def count_words(sentence):\n",
        "    words = sentence.split()\n",
        "    return len(words)\n",
        "\n",
        "df['word_count'] = df['Text'].apply(count_words)"
      ],
      "metadata": {
        "id": "LWLBUI_VGdHI"
      },
      "execution_count": 30,
      "outputs": []
    },
    {
      "cell_type": "markdown",
      "source": [
        "Polarity Score"
      ],
      "metadata": {
        "id": "skJPEB3pdGpv"
      }
    },
    {
      "cell_type": "code",
      "source": [
        "def calculate_polarity(text):\n",
        "    blob = TextBlob(text)\n",
        "    return blob.sentiment.polarity\n",
        "\n",
        "\n",
        "df['Polarity'] = df['Text'].apply(calculate_polarity)\n"
      ],
      "metadata": {
        "id": "X6vdd-I2dGFy"
      },
      "execution_count": 31,
      "outputs": []
    },
    {
      "cell_type": "markdown",
      "source": [
        "Subjectivity Score"
      ],
      "metadata": {
        "id": "AeW4gsqreu2h"
      }
    },
    {
      "cell_type": "code",
      "source": [
        "def calculate_subjectivity(text):\n",
        "    analysis = TextBlob(text)\n",
        "    return analysis.sentiment.subjectivity\n",
        "\n",
        "df['Subjectivity_Score'] = df['Text'].apply(calculate_subjectivity)\n",
        "df.head()"
      ],
      "metadata": {
        "colab": {
          "base_uri": "https://localhost:8080/",
          "height": 293
        },
        "id": "Q8QQynTXeuhL",
        "outputId": "ce9635bb-6669-4506-9586-8390e8b95c7b"
      },
      "execution_count": 32,
      "outputs": [
        {
          "output_type": "execute_result",
          "data": {
            "text/plain": [
              "   URL_ID                                                URL  \\\n",
              "0   123.0  https://insights.blackcoffer.com/rise-of-telem...   \n",
              "1   321.0  https://insights.blackcoffer.com/rise-of-e-hea...   \n",
              "2  2345.0  https://insights.blackcoffer.com/rise-of-e-hea...   \n",
              "3  4321.0  https://insights.blackcoffer.com/rise-of-telem...   \n",
              "4   432.0  https://insights.blackcoffer.com/rise-of-telem...   \n",
              "\n",
              "                                               Title  \\\n",
              "0  Rise of telemedicine and its Impact on Livelih...   \n",
              "1  Rise of e-health and its impact on humans by t...   \n",
              "2  Rise of e-health and its impact on humans by t...   \n",
              "3  Rise of telemedicine and its Impact on Livelih...   \n",
              "4  Rise of telemedicine and its Impact on Livelih...   \n",
              "\n",
              "                                                Text  \\\n",
              "0  Rise telemedicine Impact Livelihood Blackcoffe...   \n",
              "1  Rise ehealth impact humans year Blackcoffer In...   \n",
              "2  Rise ehealth impact humans year Blackcoffer In...   \n",
              "3  Rise telemedicine Impact Livelihood Blackcoffe...   \n",
              "4  Rise telemedicine Impact Livelihood Blackcoffe...   \n",
              "\n",
              "                                              tokens  word_count  Polarity  \\\n",
              "0  [Rise, telemedicine, Impact, Livelihood, Black...        1610  0.080363   \n",
              "1  [Rise, ehealth, impact, humans, year, Blackcof...        1005  0.106257   \n",
              "2  [Rise, ehealth, impact, humans, year, Blackcof...        1318  0.104491   \n",
              "3  [Rise, telemedicine, Impact, Livelihood, Black...        1397  0.109602   \n",
              "4  [Rise, telemedicine, Impact, Livelihood, Black...        1391  0.111983   \n",
              "\n",
              "   Subjectivity_Score  \n",
              "0            0.371509  \n",
              "1            0.487765  \n",
              "2            0.400472  \n",
              "3            0.367165  \n",
              "4            0.362926  "
            ],
            "text/html": [
              "\n",
              "  <div id=\"df-7456ca32-4d79-4e61-8eff-d234e9e2c10d\" class=\"colab-df-container\">\n",
              "    <div>\n",
              "<style scoped>\n",
              "    .dataframe tbody tr th:only-of-type {\n",
              "        vertical-align: middle;\n",
              "    }\n",
              "\n",
              "    .dataframe tbody tr th {\n",
              "        vertical-align: top;\n",
              "    }\n",
              "\n",
              "    .dataframe thead th {\n",
              "        text-align: right;\n",
              "    }\n",
              "</style>\n",
              "<table border=\"1\" class=\"dataframe\">\n",
              "  <thead>\n",
              "    <tr style=\"text-align: right;\">\n",
              "      <th></th>\n",
              "      <th>URL_ID</th>\n",
              "      <th>URL</th>\n",
              "      <th>Title</th>\n",
              "      <th>Text</th>\n",
              "      <th>tokens</th>\n",
              "      <th>word_count</th>\n",
              "      <th>Polarity</th>\n",
              "      <th>Subjectivity_Score</th>\n",
              "    </tr>\n",
              "  </thead>\n",
              "  <tbody>\n",
              "    <tr>\n",
              "      <th>0</th>\n",
              "      <td>123.0</td>\n",
              "      <td>https://insights.blackcoffer.com/rise-of-telem...</td>\n",
              "      <td>Rise of telemedicine and its Impact on Livelih...</td>\n",
              "      <td>Rise telemedicine Impact Livelihood Blackcoffe...</td>\n",
              "      <td>[Rise, telemedicine, Impact, Livelihood, Black...</td>\n",
              "      <td>1610</td>\n",
              "      <td>0.080363</td>\n",
              "      <td>0.371509</td>\n",
              "    </tr>\n",
              "    <tr>\n",
              "      <th>1</th>\n",
              "      <td>321.0</td>\n",
              "      <td>https://insights.blackcoffer.com/rise-of-e-hea...</td>\n",
              "      <td>Rise of e-health and its impact on humans by t...</td>\n",
              "      <td>Rise ehealth impact humans year Blackcoffer In...</td>\n",
              "      <td>[Rise, ehealth, impact, humans, year, Blackcof...</td>\n",
              "      <td>1005</td>\n",
              "      <td>0.106257</td>\n",
              "      <td>0.487765</td>\n",
              "    </tr>\n",
              "    <tr>\n",
              "      <th>2</th>\n",
              "      <td>2345.0</td>\n",
              "      <td>https://insights.blackcoffer.com/rise-of-e-hea...</td>\n",
              "      <td>Rise of e-health and its impact on humans by t...</td>\n",
              "      <td>Rise ehealth impact humans year Blackcoffer In...</td>\n",
              "      <td>[Rise, ehealth, impact, humans, year, Blackcof...</td>\n",
              "      <td>1318</td>\n",
              "      <td>0.104491</td>\n",
              "      <td>0.400472</td>\n",
              "    </tr>\n",
              "    <tr>\n",
              "      <th>3</th>\n",
              "      <td>4321.0</td>\n",
              "      <td>https://insights.blackcoffer.com/rise-of-telem...</td>\n",
              "      <td>Rise of telemedicine and its Impact on Livelih...</td>\n",
              "      <td>Rise telemedicine Impact Livelihood Blackcoffe...</td>\n",
              "      <td>[Rise, telemedicine, Impact, Livelihood, Black...</td>\n",
              "      <td>1397</td>\n",
              "      <td>0.109602</td>\n",
              "      <td>0.367165</td>\n",
              "    </tr>\n",
              "    <tr>\n",
              "      <th>4</th>\n",
              "      <td>432.0</td>\n",
              "      <td>https://insights.blackcoffer.com/rise-of-telem...</td>\n",
              "      <td>Rise of telemedicine and its Impact on Livelih...</td>\n",
              "      <td>Rise telemedicine Impact Livelihood Blackcoffe...</td>\n",
              "      <td>[Rise, telemedicine, Impact, Livelihood, Black...</td>\n",
              "      <td>1391</td>\n",
              "      <td>0.111983</td>\n",
              "      <td>0.362926</td>\n",
              "    </tr>\n",
              "  </tbody>\n",
              "</table>\n",
              "</div>\n",
              "    <div class=\"colab-df-buttons\">\n",
              "\n",
              "  <div class=\"colab-df-container\">\n",
              "    <button class=\"colab-df-convert\" onclick=\"convertToInteractive('df-7456ca32-4d79-4e61-8eff-d234e9e2c10d')\"\n",
              "            title=\"Convert this dataframe to an interactive table.\"\n",
              "            style=\"display:none;\">\n",
              "\n",
              "  <svg xmlns=\"http://www.w3.org/2000/svg\" height=\"24px\" viewBox=\"0 -960 960 960\">\n",
              "    <path d=\"M120-120v-720h720v720H120Zm60-500h600v-160H180v160Zm220 220h160v-160H400v160Zm0 220h160v-160H400v160ZM180-400h160v-160H180v160Zm440 0h160v-160H620v160ZM180-180h160v-160H180v160Zm440 0h160v-160H620v160Z\"/>\n",
              "  </svg>\n",
              "    </button>\n",
              "\n",
              "  <style>\n",
              "    .colab-df-container {\n",
              "      display:flex;\n",
              "      gap: 12px;\n",
              "    }\n",
              "\n",
              "    .colab-df-convert {\n",
              "      background-color: #E8F0FE;\n",
              "      border: none;\n",
              "      border-radius: 50%;\n",
              "      cursor: pointer;\n",
              "      display: none;\n",
              "      fill: #1967D2;\n",
              "      height: 32px;\n",
              "      padding: 0 0 0 0;\n",
              "      width: 32px;\n",
              "    }\n",
              "\n",
              "    .colab-df-convert:hover {\n",
              "      background-color: #E2EBFA;\n",
              "      box-shadow: 0px 1px 2px rgba(60, 64, 67, 0.3), 0px 1px 3px 1px rgba(60, 64, 67, 0.15);\n",
              "      fill: #174EA6;\n",
              "    }\n",
              "\n",
              "    .colab-df-buttons div {\n",
              "      margin-bottom: 4px;\n",
              "    }\n",
              "\n",
              "    [theme=dark] .colab-df-convert {\n",
              "      background-color: #3B4455;\n",
              "      fill: #D2E3FC;\n",
              "    }\n",
              "\n",
              "    [theme=dark] .colab-df-convert:hover {\n",
              "      background-color: #434B5C;\n",
              "      box-shadow: 0px 1px 3px 1px rgba(0, 0, 0, 0.15);\n",
              "      filter: drop-shadow(0px 1px 2px rgba(0, 0, 0, 0.3));\n",
              "      fill: #FFFFFF;\n",
              "    }\n",
              "  </style>\n",
              "\n",
              "    <script>\n",
              "      const buttonEl =\n",
              "        document.querySelector('#df-7456ca32-4d79-4e61-8eff-d234e9e2c10d button.colab-df-convert');\n",
              "      buttonEl.style.display =\n",
              "        google.colab.kernel.accessAllowed ? 'block' : 'none';\n",
              "\n",
              "      async function convertToInteractive(key) {\n",
              "        const element = document.querySelector('#df-7456ca32-4d79-4e61-8eff-d234e9e2c10d');\n",
              "        const dataTable =\n",
              "          await google.colab.kernel.invokeFunction('convertToInteractive',\n",
              "                                                    [key], {});\n",
              "        if (!dataTable) return;\n",
              "\n",
              "        const docLinkHtml = 'Like what you see? Visit the ' +\n",
              "          '<a target=\"_blank\" href=https://colab.research.google.com/notebooks/data_table.ipynb>data table notebook</a>'\n",
              "          + ' to learn more about interactive tables.';\n",
              "        element.innerHTML = '';\n",
              "        dataTable['output_type'] = 'display_data';\n",
              "        await google.colab.output.renderOutput(dataTable, element);\n",
              "        const docLink = document.createElement('div');\n",
              "        docLink.innerHTML = docLinkHtml;\n",
              "        element.appendChild(docLink);\n",
              "      }\n",
              "    </script>\n",
              "  </div>\n",
              "\n",
              "\n",
              "<div id=\"df-cbdcda25-e882-4201-b621-c551fde4daac\">\n",
              "  <button class=\"colab-df-quickchart\" onclick=\"quickchart('df-cbdcda25-e882-4201-b621-c551fde4daac')\"\n",
              "            title=\"Suggest charts.\"\n",
              "            style=\"display:none;\">\n",
              "\n",
              "<svg xmlns=\"http://www.w3.org/2000/svg\" height=\"24px\"viewBox=\"0 0 24 24\"\n",
              "     width=\"24px\">\n",
              "    <g>\n",
              "        <path d=\"M19 3H5c-1.1 0-2 .9-2 2v14c0 1.1.9 2 2 2h14c1.1 0 2-.9 2-2V5c0-1.1-.9-2-2-2zM9 17H7v-7h2v7zm4 0h-2V7h2v10zm4 0h-2v-4h2v4z\"/>\n",
              "    </g>\n",
              "</svg>\n",
              "  </button>\n",
              "\n",
              "<style>\n",
              "  .colab-df-quickchart {\n",
              "      --bg-color: #E8F0FE;\n",
              "      --fill-color: #1967D2;\n",
              "      --hover-bg-color: #E2EBFA;\n",
              "      --hover-fill-color: #174EA6;\n",
              "      --disabled-fill-color: #AAA;\n",
              "      --disabled-bg-color: #DDD;\n",
              "  }\n",
              "\n",
              "  [theme=dark] .colab-df-quickchart {\n",
              "      --bg-color: #3B4455;\n",
              "      --fill-color: #D2E3FC;\n",
              "      --hover-bg-color: #434B5C;\n",
              "      --hover-fill-color: #FFFFFF;\n",
              "      --disabled-bg-color: #3B4455;\n",
              "      --disabled-fill-color: #666;\n",
              "  }\n",
              "\n",
              "  .colab-df-quickchart {\n",
              "    background-color: var(--bg-color);\n",
              "    border: none;\n",
              "    border-radius: 50%;\n",
              "    cursor: pointer;\n",
              "    display: none;\n",
              "    fill: var(--fill-color);\n",
              "    height: 32px;\n",
              "    padding: 0;\n",
              "    width: 32px;\n",
              "  }\n",
              "\n",
              "  .colab-df-quickchart:hover {\n",
              "    background-color: var(--hover-bg-color);\n",
              "    box-shadow: 0 1px 2px rgba(60, 64, 67, 0.3), 0 1px 3px 1px rgba(60, 64, 67, 0.15);\n",
              "    fill: var(--button-hover-fill-color);\n",
              "  }\n",
              "\n",
              "  .colab-df-quickchart-complete:disabled,\n",
              "  .colab-df-quickchart-complete:disabled:hover {\n",
              "    background-color: var(--disabled-bg-color);\n",
              "    fill: var(--disabled-fill-color);\n",
              "    box-shadow: none;\n",
              "  }\n",
              "\n",
              "  .colab-df-spinner {\n",
              "    border: 2px solid var(--fill-color);\n",
              "    border-color: transparent;\n",
              "    border-bottom-color: var(--fill-color);\n",
              "    animation:\n",
              "      spin 1s steps(1) infinite;\n",
              "  }\n",
              "\n",
              "  @keyframes spin {\n",
              "    0% {\n",
              "      border-color: transparent;\n",
              "      border-bottom-color: var(--fill-color);\n",
              "      border-left-color: var(--fill-color);\n",
              "    }\n",
              "    20% {\n",
              "      border-color: transparent;\n",
              "      border-left-color: var(--fill-color);\n",
              "      border-top-color: var(--fill-color);\n",
              "    }\n",
              "    30% {\n",
              "      border-color: transparent;\n",
              "      border-left-color: var(--fill-color);\n",
              "      border-top-color: var(--fill-color);\n",
              "      border-right-color: var(--fill-color);\n",
              "    }\n",
              "    40% {\n",
              "      border-color: transparent;\n",
              "      border-right-color: var(--fill-color);\n",
              "      border-top-color: var(--fill-color);\n",
              "    }\n",
              "    60% {\n",
              "      border-color: transparent;\n",
              "      border-right-color: var(--fill-color);\n",
              "    }\n",
              "    80% {\n",
              "      border-color: transparent;\n",
              "      border-right-color: var(--fill-color);\n",
              "      border-bottom-color: var(--fill-color);\n",
              "    }\n",
              "    90% {\n",
              "      border-color: transparent;\n",
              "      border-bottom-color: var(--fill-color);\n",
              "    }\n",
              "  }\n",
              "</style>\n",
              "\n",
              "  <script>\n",
              "    async function quickchart(key) {\n",
              "      const quickchartButtonEl =\n",
              "        document.querySelector('#' + key + ' button');\n",
              "      quickchartButtonEl.disabled = true;  // To prevent multiple clicks.\n",
              "      quickchartButtonEl.classList.add('colab-df-spinner');\n",
              "      try {\n",
              "        const charts = await google.colab.kernel.invokeFunction(\n",
              "            'suggestCharts', [key], {});\n",
              "      } catch (error) {\n",
              "        console.error('Error during call to suggestCharts:', error);\n",
              "      }\n",
              "      quickchartButtonEl.classList.remove('colab-df-spinner');\n",
              "      quickchartButtonEl.classList.add('colab-df-quickchart-complete');\n",
              "    }\n",
              "    (() => {\n",
              "      let quickchartButtonEl =\n",
              "        document.querySelector('#df-cbdcda25-e882-4201-b621-c551fde4daac button');\n",
              "      quickchartButtonEl.style.display =\n",
              "        google.colab.kernel.accessAllowed ? 'block' : 'none';\n",
              "    })();\n",
              "  </script>\n",
              "</div>\n",
              "    </div>\n",
              "  </div>\n"
            ]
          },
          "metadata": {},
          "execution_count": 32
        }
      ]
    },
    {
      "cell_type": "markdown",
      "source": [
        "Open sentiment file"
      ],
      "metadata": {
        "id": "OlH-_U7VGtH5"
      }
    },
    {
      "cell_type": "code",
      "source": [
        "# For Negative Words\n",
        "file_path = \"/content/sentiment/negative-words.txt\"\n",
        "\n",
        "# Initialize an empty variable to store the file contents\n",
        "neg_words = \"\"\n",
        "\n",
        "with open(file_path, \"r\", encoding=\"ISO-8859-1\") as file:\n",
        "        neg_words = file.read()\n"
      ],
      "metadata": {
        "id": "NSG9sGayHVBm"
      },
      "execution_count": 33,
      "outputs": []
    },
    {
      "cell_type": "code",
      "source": [
        "# For Negative Words\n",
        "file_path = \"/content/sentiment/positive-words.txt\"\n",
        "\n",
        "# Initialize an empty variable to store the file contents\n",
        "pos_words = \"\"\n",
        "\n",
        "with open(file_path, \"r\", encoding=\"ISO-8859-1\") as file:\n",
        "        pos_words = file.read()\n"
      ],
      "metadata": {
        "id": "kL9jnXkOHVyX"
      },
      "execution_count": 34,
      "outputs": []
    },
    {
      "cell_type": "markdown",
      "source": [
        "Positve Score"
      ],
      "metadata": {
        "id": "aUzf_CQZqQHc"
      }
    },
    {
      "cell_type": "code",
      "source": [
        "\n",
        "def calculate_positive_score(text):\n",
        "    # Tokenize the input text into words\n",
        "    words = text.split()\n",
        "\n",
        "    # Initialize the Positive Score\n",
        "    positive_score = 0\n",
        "\n",
        "    # Calculate the Positive Score by summing the scores of positive words\n",
        "    for word in words:\n",
        "        if word in pos_words:\n",
        "            positive_score += 1\n",
        "\n",
        "    return positive_score\n",
        "\n",
        "\n",
        "\n",
        "df['positive_socre'] = df['Text'].apply(calculate_positive_score)\n",
        "\n"
      ],
      "metadata": {
        "id": "MZor9vTgoHfk"
      },
      "execution_count": 35,
      "outputs": []
    },
    {
      "cell_type": "markdown",
      "source": [
        "Negative Score"
      ],
      "metadata": {
        "id": "li4sbGupqOK_"
      }
    },
    {
      "cell_type": "code",
      "source": [
        "\n",
        "def calculate_negative_score(text):\n",
        "    words = text.split()\n",
        "\n",
        "    # Initialize the negative score\n",
        "    negative_score = 0\n",
        "\n",
        "    # Check each word against the Negative Dictionary\n",
        "    for word in words:\n",
        "        if word in neg_words:\n",
        "            negative_score -= 1  # Assign a value of -1 for each negative word found\n",
        "\n",
        "    # Multiply the score by -1 to make it positive\n",
        "    negative_score *= -1\n",
        "\n",
        "    return negative_score\n",
        "\n",
        "df['negative_socre'] = df['Text'].apply(calculate_negative_score)"
      ],
      "metadata": {
        "id": "GpD9mEtgoGQ2"
      },
      "execution_count": 36,
      "outputs": []
    },
    {
      "cell_type": "markdown",
      "source": [
        "AVG SENTENCE LENGTH"
      ],
      "metadata": {
        "id": "Szzmr6Ff39QK"
      }
    },
    {
      "cell_type": "code",
      "source": [
        "def calculate_average_sentence_length(dataset):\n",
        "    # Split the dataset into sentences using regular expressions\n",
        "    sentences = re.split(r'[.!?]', dataset)\n",
        "\n",
        "    # Initialize variables to keep track of the total number of words and sentences\n",
        "    total_words = 0\n",
        "    total_sentences = len(sentences) - 1  # Subtract 1 to account for the last empty string\n",
        "\n",
        "    # Iterate through the sentences to count the words in each sentence\n",
        "    for sentence in sentences:\n",
        "        words = sentence.split()\n",
        "        total_words += len(words)\n",
        "\n",
        "    # Calculate the average sentence length\n",
        "    if total_sentences > 0:\n",
        "        average_length = total_words / total_sentences\n",
        "    else:\n",
        "        average_length = 0\n",
        "\n",
        "    return average_length\n",
        "\n",
        "df[\"average_sentence_length\"]= df['Text'].apply(calculate_average_sentence_length)"
      ],
      "metadata": {
        "id": "tlWXjClg4tJj"
      },
      "execution_count": 37,
      "outputs": []
    },
    {
      "cell_type": "markdown",
      "source": [
        "Average Word Length"
      ],
      "metadata": {
        "id": "cVVGeBU_7cfk"
      }
    },
    {
      "cell_type": "code",
      "source": [
        "def average_word_length(text):\n",
        "    total_characters = 0\n",
        "    total_words = 0\n",
        "\n",
        "    words = text.split()\n",
        "\n",
        "    for word in words:\n",
        "        total_characters += len(word)\n",
        "        total_words += 1\n",
        "\n",
        "    if total_words > 0:\n",
        "        average_length = total_characters / total_words\n",
        "    else:\n",
        "        average_length = 0\n",
        "\n",
        "    return round(average_length)\n",
        "\n",
        "\n",
        "df[\"Average_word_length\"] = df[\"Text\"].apply(average_word_length)"
      ],
      "metadata": {
        "id": "OrzssB0e7cH2"
      },
      "execution_count": 38,
      "outputs": []
    },
    {
      "cell_type": "markdown",
      "source": [
        "AVG NUMBER OF WORDS PER SENTENCE"
      ],
      "metadata": {
        "id": "zpQYLmNE4L4E"
      }
    },
    {
      "cell_type": "code",
      "source": [
        "\n",
        "def avg_words_per_sentence(text):\n",
        "    sentences = nltk.sent_tokenize(text)\n",
        "    num_sentences = len(sentences)\n",
        "    num_words = sum(len(nltk.word_tokenize(sentence)) for sentence in sentences)\n",
        "    if num_sentences > 0:\n",
        "        return num_words / num_sentences\n",
        "    else:\n",
        "        return 0  # Avoid division by zero if there are no sentences\n",
        "\n",
        "df['Avg_Words_Per_Sentence'] = df['Text'].apply(avg_words_per_sentence)\n"
      ],
      "metadata": {
        "id": "_U7_DmFX4LcO"
      },
      "execution_count": 39,
      "outputs": []
    },
    {
      "cell_type": "markdown",
      "source": [
        "SYLLABLE PER WORD"
      ],
      "metadata": {
        "id": "em_8_fjj4UeT"
      }
    },
    {
      "cell_type": "code",
      "source": [
        "def syllableCount(text: string) -> int:\n",
        "  words = text.lower().split()\n",
        "  totSyll = 0\n",
        "  for word in words:\n",
        "    for char in word:\n",
        "      if(char in ['a','e','i','o','u']):\n",
        "        totSyll = totSyll + 1\n",
        "    if(word.endswith('es') or word.endswith('ed')):\n",
        "      totSyll = totSyll - 1\n",
        "  return totSyll\n",
        "\n",
        "df['syllable_count'] = df['Text'].apply(syllableCount)\n"
      ],
      "metadata": {
        "id": "Q4jqckaj5jLv"
      },
      "execution_count": 40,
      "outputs": []
    },
    {
      "cell_type": "markdown",
      "source": [
        "COMPLEX WORD COUNT"
      ],
      "metadata": {
        "id": "xsIaOwGu4RZJ"
      }
    },
    {
      "cell_type": "code",
      "source": [
        "def complexWordCount(text: string) -> int:\n",
        "  words = text.lower().split()\n",
        "  count = 0\n",
        "  for word in words:\n",
        "    totalSyll = sum(1 for char in word if char in ['a','e','i','o','u'])\n",
        "    if(word.endswith('es') or word.endswith('ed')):\n",
        "      totalSyll = totalSyll - 1\n",
        "    if(totalSyll > 2):\n",
        "      count = count + 1\n",
        "  return count\n",
        "\n",
        "df['Complex_word_count']= df['Text'].apply(complexWordCount)"
      ],
      "metadata": {
        "id": "13vvlc2y4RAZ"
      },
      "execution_count": 41,
      "outputs": []
    },
    {
      "cell_type": "markdown",
      "source": [
        "PERCENTAGE OF COMPLEX WORDS\n"
      ],
      "metadata": {
        "id": "9sGGRaMs4Dun"
      }
    },
    {
      "cell_type": "code",
      "source": [
        "df['percentage_of_complex_word']= df['Complex_word_count']/df['word_count']*100"
      ],
      "metadata": {
        "id": "ArvOsO5W4DU1"
      },
      "execution_count": 42,
      "outputs": []
    },
    {
      "cell_type": "markdown",
      "source": [
        "FOG INDEX"
      ],
      "metadata": {
        "id": "gwvqXGfS4J55"
      }
    },
    {
      "cell_type": "code",
      "source": [
        "df['Fog_index'] = 0.4 * (df['average_sentence_length'] + df['percentage_of_complex_word'])\n"
      ],
      "metadata": {
        "id": "EcVz3nAU4HLi"
      },
      "execution_count": 43,
      "outputs": []
    },
    {
      "cell_type": "markdown",
      "source": [
        "PERSONAL PRONOUNS"
      ],
      "metadata": {
        "id": "3USDFoOc4bnB"
      }
    },
    {
      "cell_type": "code",
      "source": [
        "def count_personal_pronouns(text):\n",
        "\n",
        "    regex = r'\\b(I|[Mm]y|[Oo]urs|[Ww]e|us)\\b(?!S\\b)'\n",
        "\n",
        "    # Use re.findall to find all matches of the pattern in the text\n",
        "    matches = re.findall(regex, text)\n",
        "\n",
        "    count = len(matches)\n",
        "\n",
        "    return count\n",
        "\n",
        "df['Count_personal_pronouns'] = df[\"Text\"].apply(count_personal_pronouns)"
      ],
      "metadata": {
        "id": "phliF-TTECQt"
      },
      "execution_count": 44,
      "outputs": []
    },
    {
      "cell_type": "code",
      "source": [
        "df.head()"
      ],
      "metadata": {
        "colab": {
          "base_uri": "https://localhost:8080/",
          "height": 608
        },
        "id": "6v2uRRpZHuzn",
        "outputId": "80c80b56-5ef7-40af-fe16-4f0e78bea2b8"
      },
      "execution_count": 45,
      "outputs": [
        {
          "output_type": "execute_result",
          "data": {
            "text/plain": [
              "   URL_ID                                                URL  \\\n",
              "0   123.0  https://insights.blackcoffer.com/rise-of-telem...   \n",
              "1   321.0  https://insights.blackcoffer.com/rise-of-e-hea...   \n",
              "2  2345.0  https://insights.blackcoffer.com/rise-of-e-hea...   \n",
              "3  4321.0  https://insights.blackcoffer.com/rise-of-telem...   \n",
              "4   432.0  https://insights.blackcoffer.com/rise-of-telem...   \n",
              "\n",
              "                                               Title  \\\n",
              "0  Rise of telemedicine and its Impact on Livelih...   \n",
              "1  Rise of e-health and its impact on humans by t...   \n",
              "2  Rise of e-health and its impact on humans by t...   \n",
              "3  Rise of telemedicine and its Impact on Livelih...   \n",
              "4  Rise of telemedicine and its Impact on Livelih...   \n",
              "\n",
              "                                                Text  \\\n",
              "0  Rise telemedicine Impact Livelihood Blackcoffe...   \n",
              "1  Rise ehealth impact humans year Blackcoffer In...   \n",
              "2  Rise ehealth impact humans year Blackcoffer In...   \n",
              "3  Rise telemedicine Impact Livelihood Blackcoffe...   \n",
              "4  Rise telemedicine Impact Livelihood Blackcoffe...   \n",
              "\n",
              "                                              tokens  word_count  Polarity  \\\n",
              "0  [Rise, telemedicine, Impact, Livelihood, Black...        1610  0.080363   \n",
              "1  [Rise, ehealth, impact, humans, year, Blackcof...        1005  0.106257   \n",
              "2  [Rise, ehealth, impact, humans, year, Blackcof...        1318  0.104491   \n",
              "3  [Rise, telemedicine, Impact, Livelihood, Black...        1397  0.109602   \n",
              "4  [Rise, telemedicine, Impact, Livelihood, Black...        1391  0.111983   \n",
              "\n",
              "   Subjectivity_Score  positive_socre  negative_socre  \\\n",
              "0            0.371509             240             226   \n",
              "1            0.487765             102             105   \n",
              "2            0.400472             115             135   \n",
              "3            0.367165             167             205   \n",
              "4            0.362926             162             196   \n",
              "\n",
              "   average_sentence_length  Average_word_length  Avg_Words_Per_Sentence  \\\n",
              "0                16.110000                    7               18.811111   \n",
              "1                28.542857                    7               29.485714   \n",
              "2                15.162791                    7               16.305882   \n",
              "3                17.148148                    7               20.857143   \n",
              "4                18.440000                    7               21.043478   \n",
              "\n",
              "   syllable_count  Complex_word_count  percentage_of_complex_word  Fog_index  \\\n",
              "0            4686                 872                   54.161491  28.108596   \n",
              "1            2851                 522                   51.940299  32.193262   \n",
              "2            3539                 620                   47.040971  24.881505   \n",
              "3            3787                 684                   48.962062  26.444084   \n",
              "4            3786                 694                   49.892164  27.332866   \n",
              "\n",
              "   Count_personal_pronouns  \n",
              "0                       21  \n",
              "1                       21  \n",
              "2                       24  \n",
              "3                       23  \n",
              "4                       23  "
            ],
            "text/html": [
              "\n",
              "  <div id=\"df-9e87ff2d-3a54-4cbf-9c65-12faa2ad5d68\" class=\"colab-df-container\">\n",
              "    <div>\n",
              "<style scoped>\n",
              "    .dataframe tbody tr th:only-of-type {\n",
              "        vertical-align: middle;\n",
              "    }\n",
              "\n",
              "    .dataframe tbody tr th {\n",
              "        vertical-align: top;\n",
              "    }\n",
              "\n",
              "    .dataframe thead th {\n",
              "        text-align: right;\n",
              "    }\n",
              "</style>\n",
              "<table border=\"1\" class=\"dataframe\">\n",
              "  <thead>\n",
              "    <tr style=\"text-align: right;\">\n",
              "      <th></th>\n",
              "      <th>URL_ID</th>\n",
              "      <th>URL</th>\n",
              "      <th>Title</th>\n",
              "      <th>Text</th>\n",
              "      <th>tokens</th>\n",
              "      <th>word_count</th>\n",
              "      <th>Polarity</th>\n",
              "      <th>Subjectivity_Score</th>\n",
              "      <th>positive_socre</th>\n",
              "      <th>negative_socre</th>\n",
              "      <th>average_sentence_length</th>\n",
              "      <th>Average_word_length</th>\n",
              "      <th>Avg_Words_Per_Sentence</th>\n",
              "      <th>syllable_count</th>\n",
              "      <th>Complex_word_count</th>\n",
              "      <th>percentage_of_complex_word</th>\n",
              "      <th>Fog_index</th>\n",
              "      <th>Count_personal_pronouns</th>\n",
              "    </tr>\n",
              "  </thead>\n",
              "  <tbody>\n",
              "    <tr>\n",
              "      <th>0</th>\n",
              "      <td>123.0</td>\n",
              "      <td>https://insights.blackcoffer.com/rise-of-telem...</td>\n",
              "      <td>Rise of telemedicine and its Impact on Livelih...</td>\n",
              "      <td>Rise telemedicine Impact Livelihood Blackcoffe...</td>\n",
              "      <td>[Rise, telemedicine, Impact, Livelihood, Black...</td>\n",
              "      <td>1610</td>\n",
              "      <td>0.080363</td>\n",
              "      <td>0.371509</td>\n",
              "      <td>240</td>\n",
              "      <td>226</td>\n",
              "      <td>16.110000</td>\n",
              "      <td>7</td>\n",
              "      <td>18.811111</td>\n",
              "      <td>4686</td>\n",
              "      <td>872</td>\n",
              "      <td>54.161491</td>\n",
              "      <td>28.108596</td>\n",
              "      <td>21</td>\n",
              "    </tr>\n",
              "    <tr>\n",
              "      <th>1</th>\n",
              "      <td>321.0</td>\n",
              "      <td>https://insights.blackcoffer.com/rise-of-e-hea...</td>\n",
              "      <td>Rise of e-health and its impact on humans by t...</td>\n",
              "      <td>Rise ehealth impact humans year Blackcoffer In...</td>\n",
              "      <td>[Rise, ehealth, impact, humans, year, Blackcof...</td>\n",
              "      <td>1005</td>\n",
              "      <td>0.106257</td>\n",
              "      <td>0.487765</td>\n",
              "      <td>102</td>\n",
              "      <td>105</td>\n",
              "      <td>28.542857</td>\n",
              "      <td>7</td>\n",
              "      <td>29.485714</td>\n",
              "      <td>2851</td>\n",
              "      <td>522</td>\n",
              "      <td>51.940299</td>\n",
              "      <td>32.193262</td>\n",
              "      <td>21</td>\n",
              "    </tr>\n",
              "    <tr>\n",
              "      <th>2</th>\n",
              "      <td>2345.0</td>\n",
              "      <td>https://insights.blackcoffer.com/rise-of-e-hea...</td>\n",
              "      <td>Rise of e-health and its impact on humans by t...</td>\n",
              "      <td>Rise ehealth impact humans year Blackcoffer In...</td>\n",
              "      <td>[Rise, ehealth, impact, humans, year, Blackcof...</td>\n",
              "      <td>1318</td>\n",
              "      <td>0.104491</td>\n",
              "      <td>0.400472</td>\n",
              "      <td>115</td>\n",
              "      <td>135</td>\n",
              "      <td>15.162791</td>\n",
              "      <td>7</td>\n",
              "      <td>16.305882</td>\n",
              "      <td>3539</td>\n",
              "      <td>620</td>\n",
              "      <td>47.040971</td>\n",
              "      <td>24.881505</td>\n",
              "      <td>24</td>\n",
              "    </tr>\n",
              "    <tr>\n",
              "      <th>3</th>\n",
              "      <td>4321.0</td>\n",
              "      <td>https://insights.blackcoffer.com/rise-of-telem...</td>\n",
              "      <td>Rise of telemedicine and its Impact on Livelih...</td>\n",
              "      <td>Rise telemedicine Impact Livelihood Blackcoffe...</td>\n",
              "      <td>[Rise, telemedicine, Impact, Livelihood, Black...</td>\n",
              "      <td>1397</td>\n",
              "      <td>0.109602</td>\n",
              "      <td>0.367165</td>\n",
              "      <td>167</td>\n",
              "      <td>205</td>\n",
              "      <td>17.148148</td>\n",
              "      <td>7</td>\n",
              "      <td>20.857143</td>\n",
              "      <td>3787</td>\n",
              "      <td>684</td>\n",
              "      <td>48.962062</td>\n",
              "      <td>26.444084</td>\n",
              "      <td>23</td>\n",
              "    </tr>\n",
              "    <tr>\n",
              "      <th>4</th>\n",
              "      <td>432.0</td>\n",
              "      <td>https://insights.blackcoffer.com/rise-of-telem...</td>\n",
              "      <td>Rise of telemedicine and its Impact on Livelih...</td>\n",
              "      <td>Rise telemedicine Impact Livelihood Blackcoffe...</td>\n",
              "      <td>[Rise, telemedicine, Impact, Livelihood, Black...</td>\n",
              "      <td>1391</td>\n",
              "      <td>0.111983</td>\n",
              "      <td>0.362926</td>\n",
              "      <td>162</td>\n",
              "      <td>196</td>\n",
              "      <td>18.440000</td>\n",
              "      <td>7</td>\n",
              "      <td>21.043478</td>\n",
              "      <td>3786</td>\n",
              "      <td>694</td>\n",
              "      <td>49.892164</td>\n",
              "      <td>27.332866</td>\n",
              "      <td>23</td>\n",
              "    </tr>\n",
              "  </tbody>\n",
              "</table>\n",
              "</div>\n",
              "    <div class=\"colab-df-buttons\">\n",
              "\n",
              "  <div class=\"colab-df-container\">\n",
              "    <button class=\"colab-df-convert\" onclick=\"convertToInteractive('df-9e87ff2d-3a54-4cbf-9c65-12faa2ad5d68')\"\n",
              "            title=\"Convert this dataframe to an interactive table.\"\n",
              "            style=\"display:none;\">\n",
              "\n",
              "  <svg xmlns=\"http://www.w3.org/2000/svg\" height=\"24px\" viewBox=\"0 -960 960 960\">\n",
              "    <path d=\"M120-120v-720h720v720H120Zm60-500h600v-160H180v160Zm220 220h160v-160H400v160Zm0 220h160v-160H400v160ZM180-400h160v-160H180v160Zm440 0h160v-160H620v160ZM180-180h160v-160H180v160Zm440 0h160v-160H620v160Z\"/>\n",
              "  </svg>\n",
              "    </button>\n",
              "\n",
              "  <style>\n",
              "    .colab-df-container {\n",
              "      display:flex;\n",
              "      gap: 12px;\n",
              "    }\n",
              "\n",
              "    .colab-df-convert {\n",
              "      background-color: #E8F0FE;\n",
              "      border: none;\n",
              "      border-radius: 50%;\n",
              "      cursor: pointer;\n",
              "      display: none;\n",
              "      fill: #1967D2;\n",
              "      height: 32px;\n",
              "      padding: 0 0 0 0;\n",
              "      width: 32px;\n",
              "    }\n",
              "\n",
              "    .colab-df-convert:hover {\n",
              "      background-color: #E2EBFA;\n",
              "      box-shadow: 0px 1px 2px rgba(60, 64, 67, 0.3), 0px 1px 3px 1px rgba(60, 64, 67, 0.15);\n",
              "      fill: #174EA6;\n",
              "    }\n",
              "\n",
              "    .colab-df-buttons div {\n",
              "      margin-bottom: 4px;\n",
              "    }\n",
              "\n",
              "    [theme=dark] .colab-df-convert {\n",
              "      background-color: #3B4455;\n",
              "      fill: #D2E3FC;\n",
              "    }\n",
              "\n",
              "    [theme=dark] .colab-df-convert:hover {\n",
              "      background-color: #434B5C;\n",
              "      box-shadow: 0px 1px 3px 1px rgba(0, 0, 0, 0.15);\n",
              "      filter: drop-shadow(0px 1px 2px rgba(0, 0, 0, 0.3));\n",
              "      fill: #FFFFFF;\n",
              "    }\n",
              "  </style>\n",
              "\n",
              "    <script>\n",
              "      const buttonEl =\n",
              "        document.querySelector('#df-9e87ff2d-3a54-4cbf-9c65-12faa2ad5d68 button.colab-df-convert');\n",
              "      buttonEl.style.display =\n",
              "        google.colab.kernel.accessAllowed ? 'block' : 'none';\n",
              "\n",
              "      async function convertToInteractive(key) {\n",
              "        const element = document.querySelector('#df-9e87ff2d-3a54-4cbf-9c65-12faa2ad5d68');\n",
              "        const dataTable =\n",
              "          await google.colab.kernel.invokeFunction('convertToInteractive',\n",
              "                                                    [key], {});\n",
              "        if (!dataTable) return;\n",
              "\n",
              "        const docLinkHtml = 'Like what you see? Visit the ' +\n",
              "          '<a target=\"_blank\" href=https://colab.research.google.com/notebooks/data_table.ipynb>data table notebook</a>'\n",
              "          + ' to learn more about interactive tables.';\n",
              "        element.innerHTML = '';\n",
              "        dataTable['output_type'] = 'display_data';\n",
              "        await google.colab.output.renderOutput(dataTable, element);\n",
              "        const docLink = document.createElement('div');\n",
              "        docLink.innerHTML = docLinkHtml;\n",
              "        element.appendChild(docLink);\n",
              "      }\n",
              "    </script>\n",
              "  </div>\n",
              "\n",
              "\n",
              "<div id=\"df-6685f884-6e15-4068-a0f4-0f8cb72577e6\">\n",
              "  <button class=\"colab-df-quickchart\" onclick=\"quickchart('df-6685f884-6e15-4068-a0f4-0f8cb72577e6')\"\n",
              "            title=\"Suggest charts.\"\n",
              "            style=\"display:none;\">\n",
              "\n",
              "<svg xmlns=\"http://www.w3.org/2000/svg\" height=\"24px\"viewBox=\"0 0 24 24\"\n",
              "     width=\"24px\">\n",
              "    <g>\n",
              "        <path d=\"M19 3H5c-1.1 0-2 .9-2 2v14c0 1.1.9 2 2 2h14c1.1 0 2-.9 2-2V5c0-1.1-.9-2-2-2zM9 17H7v-7h2v7zm4 0h-2V7h2v10zm4 0h-2v-4h2v4z\"/>\n",
              "    </g>\n",
              "</svg>\n",
              "  </button>\n",
              "\n",
              "<style>\n",
              "  .colab-df-quickchart {\n",
              "      --bg-color: #E8F0FE;\n",
              "      --fill-color: #1967D2;\n",
              "      --hover-bg-color: #E2EBFA;\n",
              "      --hover-fill-color: #174EA6;\n",
              "      --disabled-fill-color: #AAA;\n",
              "      --disabled-bg-color: #DDD;\n",
              "  }\n",
              "\n",
              "  [theme=dark] .colab-df-quickchart {\n",
              "      --bg-color: #3B4455;\n",
              "      --fill-color: #D2E3FC;\n",
              "      --hover-bg-color: #434B5C;\n",
              "      --hover-fill-color: #FFFFFF;\n",
              "      --disabled-bg-color: #3B4455;\n",
              "      --disabled-fill-color: #666;\n",
              "  }\n",
              "\n",
              "  .colab-df-quickchart {\n",
              "    background-color: var(--bg-color);\n",
              "    border: none;\n",
              "    border-radius: 50%;\n",
              "    cursor: pointer;\n",
              "    display: none;\n",
              "    fill: var(--fill-color);\n",
              "    height: 32px;\n",
              "    padding: 0;\n",
              "    width: 32px;\n",
              "  }\n",
              "\n",
              "  .colab-df-quickchart:hover {\n",
              "    background-color: var(--hover-bg-color);\n",
              "    box-shadow: 0 1px 2px rgba(60, 64, 67, 0.3), 0 1px 3px 1px rgba(60, 64, 67, 0.15);\n",
              "    fill: var(--button-hover-fill-color);\n",
              "  }\n",
              "\n",
              "  .colab-df-quickchart-complete:disabled,\n",
              "  .colab-df-quickchart-complete:disabled:hover {\n",
              "    background-color: var(--disabled-bg-color);\n",
              "    fill: var(--disabled-fill-color);\n",
              "    box-shadow: none;\n",
              "  }\n",
              "\n",
              "  .colab-df-spinner {\n",
              "    border: 2px solid var(--fill-color);\n",
              "    border-color: transparent;\n",
              "    border-bottom-color: var(--fill-color);\n",
              "    animation:\n",
              "      spin 1s steps(1) infinite;\n",
              "  }\n",
              "\n",
              "  @keyframes spin {\n",
              "    0% {\n",
              "      border-color: transparent;\n",
              "      border-bottom-color: var(--fill-color);\n",
              "      border-left-color: var(--fill-color);\n",
              "    }\n",
              "    20% {\n",
              "      border-color: transparent;\n",
              "      border-left-color: var(--fill-color);\n",
              "      border-top-color: var(--fill-color);\n",
              "    }\n",
              "    30% {\n",
              "      border-color: transparent;\n",
              "      border-left-color: var(--fill-color);\n",
              "      border-top-color: var(--fill-color);\n",
              "      border-right-color: var(--fill-color);\n",
              "    }\n",
              "    40% {\n",
              "      border-color: transparent;\n",
              "      border-right-color: var(--fill-color);\n",
              "      border-top-color: var(--fill-color);\n",
              "    }\n",
              "    60% {\n",
              "      border-color: transparent;\n",
              "      border-right-color: var(--fill-color);\n",
              "    }\n",
              "    80% {\n",
              "      border-color: transparent;\n",
              "      border-right-color: var(--fill-color);\n",
              "      border-bottom-color: var(--fill-color);\n",
              "    }\n",
              "    90% {\n",
              "      border-color: transparent;\n",
              "      border-bottom-color: var(--fill-color);\n",
              "    }\n",
              "  }\n",
              "</style>\n",
              "\n",
              "  <script>\n",
              "    async function quickchart(key) {\n",
              "      const quickchartButtonEl =\n",
              "        document.querySelector('#' + key + ' button');\n",
              "      quickchartButtonEl.disabled = true;  // To prevent multiple clicks.\n",
              "      quickchartButtonEl.classList.add('colab-df-spinner');\n",
              "      try {\n",
              "        const charts = await google.colab.kernel.invokeFunction(\n",
              "            'suggestCharts', [key], {});\n",
              "      } catch (error) {\n",
              "        console.error('Error during call to suggestCharts:', error);\n",
              "      }\n",
              "      quickchartButtonEl.classList.remove('colab-df-spinner');\n",
              "      quickchartButtonEl.classList.add('colab-df-quickchart-complete');\n",
              "    }\n",
              "    (() => {\n",
              "      let quickchartButtonEl =\n",
              "        document.querySelector('#df-6685f884-6e15-4068-a0f4-0f8cb72577e6 button');\n",
              "      quickchartButtonEl.style.display =\n",
              "        google.colab.kernel.accessAllowed ? 'block' : 'none';\n",
              "    })();\n",
              "  </script>\n",
              "</div>\n",
              "    </div>\n",
              "  </div>\n"
            ]
          },
          "metadata": {},
          "execution_count": 45
        }
      ]
    },
    {
      "cell_type": "code",
      "source": [
        "df.info()"
      ],
      "metadata": {
        "colab": {
          "base_uri": "https://localhost:8080/"
        },
        "id": "xwyywhMzHwqB",
        "outputId": "c2762c79-a183-4c91-b1ed-8d2786e24560"
      },
      "execution_count": 46,
      "outputs": [
        {
          "output_type": "stream",
          "name": "stdout",
          "text": [
            "<class 'pandas.core.frame.DataFrame'>\n",
            "RangeIndex: 6 entries, 0 to 5\n",
            "Data columns (total 18 columns):\n",
            " #   Column                      Non-Null Count  Dtype  \n",
            "---  ------                      --------------  -----  \n",
            " 0   URL_ID                      6 non-null      float64\n",
            " 1   URL                         6 non-null      object \n",
            " 2   Title                       6 non-null      object \n",
            " 3   Text                        6 non-null      object \n",
            " 4   tokens                      6 non-null      object \n",
            " 5   word_count                  6 non-null      int64  \n",
            " 6   Polarity                    6 non-null      float64\n",
            " 7   Subjectivity_Score          6 non-null      float64\n",
            " 8   positive_socre              6 non-null      int64  \n",
            " 9   negative_socre              6 non-null      int64  \n",
            " 10  average_sentence_length     6 non-null      float64\n",
            " 11  Average_word_length         6 non-null      int64  \n",
            " 12  Avg_Words_Per_Sentence      6 non-null      float64\n",
            " 13  syllable_count              6 non-null      int64  \n",
            " 14  Complex_word_count          6 non-null      int64  \n",
            " 15  percentage_of_complex_word  6 non-null      float64\n",
            " 16  Fog_index                   6 non-null      float64\n",
            " 17  Count_personal_pronouns     6 non-null      int64  \n",
            "dtypes: float64(7), int64(7), object(4)\n",
            "memory usage: 992.0+ bytes\n"
          ]
        }
      ]
    },
    {
      "cell_type": "code",
      "source": [
        "df.shape"
      ],
      "metadata": {
        "colab": {
          "base_uri": "https://localhost:8080/"
        },
        "id": "CthMPoCeH0DB",
        "outputId": "ccc22e6a-7dfa-4bf5-910f-cc20e33463d0"
      },
      "execution_count": 47,
      "outputs": [
        {
          "output_type": "execute_result",
          "data": {
            "text/plain": [
              "(6, 18)"
            ]
          },
          "metadata": {},
          "execution_count": 47
        }
      ]
    },
    {
      "cell_type": "code",
      "source": [
        "#now save the datafrmae to csv file\n",
        "df.to_csv('result.csv')"
      ],
      "metadata": {
        "id": "Ei1iae3CcSP9"
      },
      "execution_count": 48,
      "outputs": []
    },
    {
      "cell_type": "code",
      "source": [],
      "metadata": {
        "id": "oMPDGzELHR0A"
      },
      "execution_count": 48,
      "outputs": []
    }
  ]
}